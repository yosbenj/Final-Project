{
 "cells": [
  {
   "cell_type": "markdown",
   "id": "81030932",
   "metadata": {},
   "source": [
    "# BOOK RECOMMENDER"
   ]
  },
  {
   "cell_type": "markdown",
   "id": "0fe51db5",
   "metadata": {},
   "source": [
    "## Import Libraries"
   ]
  },
  {
   "cell_type": "code",
   "execution_count": 1,
   "id": "168919b0",
   "metadata": {},
   "outputs": [],
   "source": [
    "import pandas as pd\n",
    "import numpy as np\n",
    "import pickle\n",
    "import requests\n",
    "from random import randint\n",
    "from time import sleep\n",
    "from itertools import islice\n",
    "from pandas import json_normalize\n",
    "from sklearn.preprocessing import StandardScaler\n",
    "from sklearn.preprocessing import OneHotEncoder\n",
    "from IPython.display import Image, display, HTML\n",
    "from IPython.display import Image, display\n",
    "from textblob import TextBlob\n",
    "\n",
    "import warnings\n",
    "# Ignore all warnings\n",
    "warnings.filterwarnings('ignore')"
   ]
  },
  {
   "cell_type": "markdown",
   "id": "1f56c366",
   "metadata": {},
   "source": [
    "## Load Data"
   ]
  },
  {
   "cell_type": "code",
   "execution_count": 2,
   "id": "dee0cfe5",
   "metadata": {},
   "outputs": [],
   "source": [
    "# Load the DataFrames from the CSV files\n",
    "final_df = pd.read_csv('final_df.csv')\n",
    "goodreads_df = pd.read_csv('goodreads_df_cleaned.csv')"
   ]
  },
  {
   "cell_type": "markdown",
   "id": "99bd5b54",
   "metadata": {},
   "source": [
    "## Check Data"
   ]
  },
  {
   "cell_type": "code",
   "execution_count": 3,
   "id": "1def005b",
   "metadata": {},
   "outputs": [
    {
     "data": {
      "text/html": [
       "<div>\n",
       "<style scoped>\n",
       "    .dataframe tbody tr th:only-of-type {\n",
       "        vertical-align: middle;\n",
       "    }\n",
       "\n",
       "    .dataframe tbody tr th {\n",
       "        vertical-align: top;\n",
       "    }\n",
       "\n",
       "    .dataframe thead th {\n",
       "        text-align: right;\n",
       "    }\n",
       "</style>\n",
       "<table border=\"1\" class=\"dataframe\">\n",
       "  <thead>\n",
       "    <tr style=\"text-align: right;\">\n",
       "      <th></th>\n",
       "      <th>title</th>\n",
       "      <th>author</th>\n",
       "      <th>image_url</th>\n",
       "      <th>url</th>\n",
       "      <th>cluster</th>\n",
       "    </tr>\n",
       "  </thead>\n",
       "  <tbody>\n",
       "    <tr>\n",
       "      <th>0</th>\n",
       "      <td>Between Two Fires: American Indians in the Civ...</td>\n",
       "      <td>Laurence M. Hauptman</td>\n",
       "      <td>https://i.gr-assets.com/images/S/compressed.ph...</td>\n",
       "      <td>https://goodreads.com/book/show/1001053.Betwee...</td>\n",
       "      <td>1</td>\n",
       "    </tr>\n",
       "    <tr>\n",
       "      <th>1</th>\n",
       "      <td>Fashion Sourcebook 1920s</td>\n",
       "      <td>Charlotte Fiell,Emmanuelle Dirix</td>\n",
       "      <td>https://i.gr-assets.com/images/S/compressed.ph...</td>\n",
       "      <td>https://goodreads.com/book/show/10010552-fashi...</td>\n",
       "      <td>5</td>\n",
       "    </tr>\n",
       "    <tr>\n",
       "      <th>2</th>\n",
       "      <td>Hungary 56</td>\n",
       "      <td>Andy Anderson</td>\n",
       "      <td>https://i.gr-assets.com/images/S/compressed.ph...</td>\n",
       "      <td>https://goodreads.com/book/show/1001077.Hungar...</td>\n",
       "      <td>12</td>\n",
       "    </tr>\n",
       "    <tr>\n",
       "      <th>3</th>\n",
       "      <td>All-American Anarchist: Joseph A. Labadie and ...</td>\n",
       "      <td>Carlotta R. Anderson</td>\n",
       "      <td>https://i.gr-assets.com/images/S/compressed.ph...</td>\n",
       "      <td>https://goodreads.com/book/show/1001079.All_Am...</td>\n",
       "      <td>6</td>\n",
       "    </tr>\n",
       "    <tr>\n",
       "      <th>4</th>\n",
       "      <td>The Human Equation: Building Profits by Puttin...</td>\n",
       "      <td>Jeffrey Pfeffer</td>\n",
       "      <td>https://i.gr-assets.com/images/S/compressed.ph...</td>\n",
       "      <td>https://goodreads.com/book/show/1001090.The_Hu...</td>\n",
       "      <td>8</td>\n",
       "    </tr>\n",
       "  </tbody>\n",
       "</table>\n",
       "</div>"
      ],
      "text/plain": [
       "                                               title  \\\n",
       "0  Between Two Fires: American Indians in the Civ...   \n",
       "1                           Fashion Sourcebook 1920s   \n",
       "2                                         Hungary 56   \n",
       "3  All-American Anarchist: Joseph A. Labadie and ...   \n",
       "4  The Human Equation: Building Profits by Puttin...   \n",
       "\n",
       "                             author  \\\n",
       "0              Laurence M. Hauptman   \n",
       "1  Charlotte Fiell,Emmanuelle Dirix   \n",
       "2                     Andy Anderson   \n",
       "3              Carlotta R. Anderson   \n",
       "4                   Jeffrey Pfeffer   \n",
       "\n",
       "                                           image_url  \\\n",
       "0  https://i.gr-assets.com/images/S/compressed.ph...   \n",
       "1  https://i.gr-assets.com/images/S/compressed.ph...   \n",
       "2  https://i.gr-assets.com/images/S/compressed.ph...   \n",
       "3  https://i.gr-assets.com/images/S/compressed.ph...   \n",
       "4  https://i.gr-assets.com/images/S/compressed.ph...   \n",
       "\n",
       "                                                 url  cluster  \n",
       "0  https://goodreads.com/book/show/1001053.Betwee...        1  \n",
       "1  https://goodreads.com/book/show/10010552-fashi...        5  \n",
       "2  https://goodreads.com/book/show/1001077.Hungar...       12  \n",
       "3  https://goodreads.com/book/show/1001079.All_Am...        6  \n",
       "4  https://goodreads.com/book/show/1001090.The_Hu...        8  "
      ]
     },
     "execution_count": 3,
     "metadata": {},
     "output_type": "execute_result"
    }
   ],
   "source": [
    "final_df.head()"
   ]
  },
  {
   "cell_type": "code",
   "execution_count": 4,
   "id": "a12dad55",
   "metadata": {},
   "outputs": [
    {
     "data": {
      "text/plain": [
       "(73038, 5)"
      ]
     },
     "execution_count": 4,
     "metadata": {},
     "output_type": "execute_result"
    }
   ],
   "source": [
    "final_df.shape"
   ]
  },
  {
   "cell_type": "code",
   "execution_count": 5,
   "id": "ba358c23",
   "metadata": {},
   "outputs": [
    {
     "data": {
      "text/html": [
       "<div>\n",
       "<style scoped>\n",
       "    .dataframe tbody tr th:only-of-type {\n",
       "        vertical-align: middle;\n",
       "    }\n",
       "\n",
       "    .dataframe tbody tr th {\n",
       "        vertical-align: top;\n",
       "    }\n",
       "\n",
       "    .dataframe thead th {\n",
       "        text-align: right;\n",
       "    }\n",
       "</style>\n",
       "<table border=\"1\" class=\"dataframe\">\n",
       "  <thead>\n",
       "    <tr style=\"text-align: right;\">\n",
       "      <th></th>\n",
       "      <th>title</th>\n",
       "      <th>author</th>\n",
       "      <th>image_url</th>\n",
       "      <th>rating</th>\n",
       "      <th>rating_count</th>\n",
       "    </tr>\n",
       "  </thead>\n",
       "  <tbody>\n",
       "    <tr>\n",
       "      <th>0</th>\n",
       "      <td>Fourth Wing (The Empyrean, #1)</td>\n",
       "      <td>Rebecca Yarros</td>\n",
       "      <td>https://i.gr-assets.com/images/S/compressed.ph...</td>\n",
       "      <td>4.63</td>\n",
       "      <td>844,282</td>\n",
       "    </tr>\n",
       "    <tr>\n",
       "      <th>1</th>\n",
       "      <td>Happy Place</td>\n",
       "      <td>Emily Henry</td>\n",
       "      <td>https://i.gr-assets.com/images/S/compressed.ph...</td>\n",
       "      <td>4.06</td>\n",
       "      <td>574,386</td>\n",
       "    </tr>\n",
       "    <tr>\n",
       "      <th>2</th>\n",
       "      <td>Yellowface</td>\n",
       "      <td>R.F. Kuang</td>\n",
       "      <td>https://i.gr-assets.com/images/S/compressed.ph...</td>\n",
       "      <td>3.87</td>\n",
       "      <td>227,094</td>\n",
       "    </tr>\n",
       "    <tr>\n",
       "      <th>3</th>\n",
       "      <td>Love, Theoretically</td>\n",
       "      <td>Ali Hazelwood</td>\n",
       "      <td>https://i.gr-assets.com/images/S/compressed.ph...</td>\n",
       "      <td>4.17</td>\n",
       "      <td>239,576</td>\n",
       "    </tr>\n",
       "    <tr>\n",
       "      <th>4</th>\n",
       "      <td>Divine Rivals (Letters of Enchantment, #1)</td>\n",
       "      <td>Rebecca   Ross</td>\n",
       "      <td>https://i.gr-assets.com/images/S/compressed.ph...</td>\n",
       "      <td>4.26</td>\n",
       "      <td>161,237</td>\n",
       "    </tr>\n",
       "  </tbody>\n",
       "</table>\n",
       "</div>"
      ],
      "text/plain": [
       "                                        title          author  \\\n",
       "0              Fourth Wing (The Empyrean, #1)  Rebecca Yarros   \n",
       "1                                 Happy Place     Emily Henry   \n",
       "2                                  Yellowface      R.F. Kuang   \n",
       "3                         Love, Theoretically   Ali Hazelwood   \n",
       "4  Divine Rivals (Letters of Enchantment, #1)  Rebecca   Ross   \n",
       "\n",
       "                                           image_url  rating rating_count  \n",
       "0  https://i.gr-assets.com/images/S/compressed.ph...    4.63      844,282  \n",
       "1  https://i.gr-assets.com/images/S/compressed.ph...    4.06      574,386  \n",
       "2  https://i.gr-assets.com/images/S/compressed.ph...    3.87      227,094  \n",
       "3  https://i.gr-assets.com/images/S/compressed.ph...    4.17      239,576  \n",
       "4  https://i.gr-assets.com/images/S/compressed.ph...    4.26      161,237  "
      ]
     },
     "execution_count": 5,
     "metadata": {},
     "output_type": "execute_result"
    }
   ],
   "source": [
    "goodreads_df.head()"
   ]
  },
  {
   "cell_type": "code",
   "execution_count": 6,
   "id": "af1e2374",
   "metadata": {
    "scrolled": true
   },
   "outputs": [
    {
     "data": {
      "text/plain": [
       "(100, 5)"
      ]
     },
     "execution_count": 6,
     "metadata": {},
     "output_type": "execute_result"
    }
   ],
   "source": [
    "goodreads_df.shape"
   ]
  },
  {
   "cell_type": "code",
   "execution_count": 7,
   "id": "c23d1c0c",
   "metadata": {},
   "outputs": [
    {
     "data": {
      "text/html": [
       "<div>\n",
       "<style scoped>\n",
       "    .dataframe tbody tr th:only-of-type {\n",
       "        vertical-align: middle;\n",
       "    }\n",
       "\n",
       "    .dataframe tbody tr th {\n",
       "        vertical-align: top;\n",
       "    }\n",
       "\n",
       "    .dataframe thead th {\n",
       "        text-align: right;\n",
       "    }\n",
       "</style>\n",
       "<table border=\"1\" class=\"dataframe\">\n",
       "  <thead>\n",
       "    <tr style=\"text-align: right;\">\n",
       "      <th></th>\n",
       "      <th>title</th>\n",
       "      <th>author</th>\n",
       "      <th>image_url</th>\n",
       "    </tr>\n",
       "  </thead>\n",
       "  <tbody>\n",
       "    <tr>\n",
       "      <th>0</th>\n",
       "      <td>Fourth Wing (The Empyrean, #1)</td>\n",
       "      <td>Rebecca Yarros</td>\n",
       "      <td>https://i.gr-assets.com/images/S/compressed.ph...</td>\n",
       "    </tr>\n",
       "    <tr>\n",
       "      <th>1</th>\n",
       "      <td>Happy Place</td>\n",
       "      <td>Emily Henry</td>\n",
       "      <td>https://i.gr-assets.com/images/S/compressed.ph...</td>\n",
       "    </tr>\n",
       "    <tr>\n",
       "      <th>2</th>\n",
       "      <td>Yellowface</td>\n",
       "      <td>R.F. Kuang</td>\n",
       "      <td>https://i.gr-assets.com/images/S/compressed.ph...</td>\n",
       "    </tr>\n",
       "    <tr>\n",
       "      <th>3</th>\n",
       "      <td>Love, Theoretically</td>\n",
       "      <td>Ali Hazelwood</td>\n",
       "      <td>https://i.gr-assets.com/images/S/compressed.ph...</td>\n",
       "    </tr>\n",
       "    <tr>\n",
       "      <th>4</th>\n",
       "      <td>Divine Rivals (Letters of Enchantment, #1)</td>\n",
       "      <td>Rebecca   Ross</td>\n",
       "      <td>https://i.gr-assets.com/images/S/compressed.ph...</td>\n",
       "    </tr>\n",
       "  </tbody>\n",
       "</table>\n",
       "</div>"
      ],
      "text/plain": [
       "                                        title          author  \\\n",
       "0              Fourth Wing (The Empyrean, #1)  Rebecca Yarros   \n",
       "1                                 Happy Place     Emily Henry   \n",
       "2                                  Yellowface      R.F. Kuang   \n",
       "3                         Love, Theoretically   Ali Hazelwood   \n",
       "4  Divine Rivals (Letters of Enchantment, #1)  Rebecca   Ross   \n",
       "\n",
       "                                           image_url  \n",
       "0  https://i.gr-assets.com/images/S/compressed.ph...  \n",
       "1  https://i.gr-assets.com/images/S/compressed.ph...  \n",
       "2  https://i.gr-assets.com/images/S/compressed.ph...  \n",
       "3  https://i.gr-assets.com/images/S/compressed.ph...  \n",
       "4  https://i.gr-assets.com/images/S/compressed.ph...  "
      ]
     },
     "execution_count": 7,
     "metadata": {},
     "output_type": "execute_result"
    }
   ],
   "source": [
    "# Create a new DataFrame with selected columns for the recommender\n",
    "selected_columns = ['title', 'author', 'image_url']\n",
    "goodreads_rec_df = goodreads_df[selected_columns]\n",
    "\n",
    "# Display the new DataFrame\n",
    "goodreads_rec_df.head()"
   ]
  },
  {
   "cell_type": "code",
   "execution_count": 8,
   "id": "e8b67516",
   "metadata": {},
   "outputs": [
    {
     "data": {
      "text/plain": [
       "(100, 3)"
      ]
     },
     "execution_count": 8,
     "metadata": {},
     "output_type": "execute_result"
    }
   ],
   "source": [
    "goodreads_rec_df.shape"
   ]
  },
  {
   "cell_type": "code",
   "execution_count": 9,
   "id": "be7ca868",
   "metadata": {},
   "outputs": [],
   "source": [
    "# Save to a CSV file\n",
    "goodreads_rec_df.to_csv('goodreads_rec_df.csv', index=False)"
   ]
  },
  {
   "cell_type": "markdown",
   "id": "c18cd643",
   "metadata": {},
   "source": [
    "## Loading Machine Learning Models"
   ]
  },
  {
   "cell_type": "code",
   "execution_count": 10,
   "id": "91d02b05",
   "metadata": {},
   "outputs": [],
   "source": [
    "# Load the KMeans model from a pickle file\n",
    "with open('kmeans.pkl', 'rb') as file:\n",
    "    kmeans = pickle.load(file)\n",
    "\n",
    "# Load the scaler\n",
    "with open('scaler.pkl', 'rb') as file:\n",
    "    scaler = pickle.load(file)\n",
    "    \n",
    "# Load the encoder\n",
    "with open('encoder.pkl', 'rb') as file:\n",
    "    encoder = pickle.load(file)"
   ]
  },
  {
   "cell_type": "code",
   "execution_count": 11,
   "id": "e0474ea7",
   "metadata": {},
   "outputs": [
    {
     "data": {
      "text/html": [
       "<style>#sk-container-id-1 {color: black;}#sk-container-id-1 pre{padding: 0;}#sk-container-id-1 div.sk-toggleable {background-color: white;}#sk-container-id-1 label.sk-toggleable__label {cursor: pointer;display: block;width: 100%;margin-bottom: 0;padding: 0.3em;box-sizing: border-box;text-align: center;}#sk-container-id-1 label.sk-toggleable__label-arrow:before {content: \"▸\";float: left;margin-right: 0.25em;color: #696969;}#sk-container-id-1 label.sk-toggleable__label-arrow:hover:before {color: black;}#sk-container-id-1 div.sk-estimator:hover label.sk-toggleable__label-arrow:before {color: black;}#sk-container-id-1 div.sk-toggleable__content {max-height: 0;max-width: 0;overflow: hidden;text-align: left;background-color: #f0f8ff;}#sk-container-id-1 div.sk-toggleable__content pre {margin: 0.2em;color: black;border-radius: 0.25em;background-color: #f0f8ff;}#sk-container-id-1 input.sk-toggleable__control:checked~div.sk-toggleable__content {max-height: 200px;max-width: 100%;overflow: auto;}#sk-container-id-1 input.sk-toggleable__control:checked~label.sk-toggleable__label-arrow:before {content: \"▾\";}#sk-container-id-1 div.sk-estimator input.sk-toggleable__control:checked~label.sk-toggleable__label {background-color: #d4ebff;}#sk-container-id-1 div.sk-label input.sk-toggleable__control:checked~label.sk-toggleable__label {background-color: #d4ebff;}#sk-container-id-1 input.sk-hidden--visually {border: 0;clip: rect(1px 1px 1px 1px);clip: rect(1px, 1px, 1px, 1px);height: 1px;margin: -1px;overflow: hidden;padding: 0;position: absolute;width: 1px;}#sk-container-id-1 div.sk-estimator {font-family: monospace;background-color: #f0f8ff;border: 1px dotted black;border-radius: 0.25em;box-sizing: border-box;margin-bottom: 0.5em;}#sk-container-id-1 div.sk-estimator:hover {background-color: #d4ebff;}#sk-container-id-1 div.sk-parallel-item::after {content: \"\";width: 100%;border-bottom: 1px solid gray;flex-grow: 1;}#sk-container-id-1 div.sk-label:hover label.sk-toggleable__label {background-color: #d4ebff;}#sk-container-id-1 div.sk-serial::before {content: \"\";position: absolute;border-left: 1px solid gray;box-sizing: border-box;top: 0;bottom: 0;left: 50%;z-index: 0;}#sk-container-id-1 div.sk-serial {display: flex;flex-direction: column;align-items: center;background-color: white;padding-right: 0.2em;padding-left: 0.2em;position: relative;}#sk-container-id-1 div.sk-item {position: relative;z-index: 1;}#sk-container-id-1 div.sk-parallel {display: flex;align-items: stretch;justify-content: center;background-color: white;position: relative;}#sk-container-id-1 div.sk-item::before, #sk-container-id-1 div.sk-parallel-item::before {content: \"\";position: absolute;border-left: 1px solid gray;box-sizing: border-box;top: 0;bottom: 0;left: 50%;z-index: -1;}#sk-container-id-1 div.sk-parallel-item {display: flex;flex-direction: column;z-index: 1;position: relative;background-color: white;}#sk-container-id-1 div.sk-parallel-item:first-child::after {align-self: flex-end;width: 50%;}#sk-container-id-1 div.sk-parallel-item:last-child::after {align-self: flex-start;width: 50%;}#sk-container-id-1 div.sk-parallel-item:only-child::after {width: 0;}#sk-container-id-1 div.sk-dashed-wrapped {border: 1px dashed gray;margin: 0 0.4em 0.5em 0.4em;box-sizing: border-box;padding-bottom: 0.4em;background-color: white;}#sk-container-id-1 div.sk-label label {font-family: monospace;font-weight: bold;display: inline-block;line-height: 1.2em;}#sk-container-id-1 div.sk-label-container {text-align: center;}#sk-container-id-1 div.sk-container {/* jupyter's `normalize.less` sets `[hidden] { display: none; }` but bootstrap.min.css set `[hidden] { display: none !important; }` so we also need the `!important` here to be able to override the default hidden behavior on the sphinx rendered scikit-learn.org. See: https://github.com/scikit-learn/scikit-learn/issues/21755 */display: inline-block !important;position: relative;}#sk-container-id-1 div.sk-text-repr-fallback {display: none;}</style><div id=\"sk-container-id-1\" class=\"sk-top-container\"><div class=\"sk-text-repr-fallback\"><pre>KMeans(n_clusters=16, random_state=42)</pre><b>In a Jupyter environment, please rerun this cell to show the HTML representation or trust the notebook. <br />On GitHub, the HTML representation is unable to render, please try loading this page with nbviewer.org.</b></div><div class=\"sk-container\" hidden><div class=\"sk-item\"><div class=\"sk-estimator sk-toggleable\"><input class=\"sk-toggleable__control sk-hidden--visually\" id=\"sk-estimator-id-1\" type=\"checkbox\" checked><label for=\"sk-estimator-id-1\" class=\"sk-toggleable__label sk-toggleable__label-arrow\">KMeans</label><div class=\"sk-toggleable__content\"><pre>KMeans(n_clusters=16, random_state=42)</pre></div></div></div></div></div>"
      ],
      "text/plain": [
       "KMeans(n_clusters=16, random_state=42)"
      ]
     },
     "execution_count": 11,
     "metadata": {},
     "output_type": "execute_result"
    }
   ],
   "source": [
    "kmeans"
   ]
  },
  {
   "cell_type": "code",
   "execution_count": 12,
   "id": "0764a503",
   "metadata": {},
   "outputs": [
    {
     "data": {
      "text/html": [
       "<style>#sk-container-id-2 {color: black;}#sk-container-id-2 pre{padding: 0;}#sk-container-id-2 div.sk-toggleable {background-color: white;}#sk-container-id-2 label.sk-toggleable__label {cursor: pointer;display: block;width: 100%;margin-bottom: 0;padding: 0.3em;box-sizing: border-box;text-align: center;}#sk-container-id-2 label.sk-toggleable__label-arrow:before {content: \"▸\";float: left;margin-right: 0.25em;color: #696969;}#sk-container-id-2 label.sk-toggleable__label-arrow:hover:before {color: black;}#sk-container-id-2 div.sk-estimator:hover label.sk-toggleable__label-arrow:before {color: black;}#sk-container-id-2 div.sk-toggleable__content {max-height: 0;max-width: 0;overflow: hidden;text-align: left;background-color: #f0f8ff;}#sk-container-id-2 div.sk-toggleable__content pre {margin: 0.2em;color: black;border-radius: 0.25em;background-color: #f0f8ff;}#sk-container-id-2 input.sk-toggleable__control:checked~div.sk-toggleable__content {max-height: 200px;max-width: 100%;overflow: auto;}#sk-container-id-2 input.sk-toggleable__control:checked~label.sk-toggleable__label-arrow:before {content: \"▾\";}#sk-container-id-2 div.sk-estimator input.sk-toggleable__control:checked~label.sk-toggleable__label {background-color: #d4ebff;}#sk-container-id-2 div.sk-label input.sk-toggleable__control:checked~label.sk-toggleable__label {background-color: #d4ebff;}#sk-container-id-2 input.sk-hidden--visually {border: 0;clip: rect(1px 1px 1px 1px);clip: rect(1px, 1px, 1px, 1px);height: 1px;margin: -1px;overflow: hidden;padding: 0;position: absolute;width: 1px;}#sk-container-id-2 div.sk-estimator {font-family: monospace;background-color: #f0f8ff;border: 1px dotted black;border-radius: 0.25em;box-sizing: border-box;margin-bottom: 0.5em;}#sk-container-id-2 div.sk-estimator:hover {background-color: #d4ebff;}#sk-container-id-2 div.sk-parallel-item::after {content: \"\";width: 100%;border-bottom: 1px solid gray;flex-grow: 1;}#sk-container-id-2 div.sk-label:hover label.sk-toggleable__label {background-color: #d4ebff;}#sk-container-id-2 div.sk-serial::before {content: \"\";position: absolute;border-left: 1px solid gray;box-sizing: border-box;top: 0;bottom: 0;left: 50%;z-index: 0;}#sk-container-id-2 div.sk-serial {display: flex;flex-direction: column;align-items: center;background-color: white;padding-right: 0.2em;padding-left: 0.2em;position: relative;}#sk-container-id-2 div.sk-item {position: relative;z-index: 1;}#sk-container-id-2 div.sk-parallel {display: flex;align-items: stretch;justify-content: center;background-color: white;position: relative;}#sk-container-id-2 div.sk-item::before, #sk-container-id-2 div.sk-parallel-item::before {content: \"\";position: absolute;border-left: 1px solid gray;box-sizing: border-box;top: 0;bottom: 0;left: 50%;z-index: -1;}#sk-container-id-2 div.sk-parallel-item {display: flex;flex-direction: column;z-index: 1;position: relative;background-color: white;}#sk-container-id-2 div.sk-parallel-item:first-child::after {align-self: flex-end;width: 50%;}#sk-container-id-2 div.sk-parallel-item:last-child::after {align-self: flex-start;width: 50%;}#sk-container-id-2 div.sk-parallel-item:only-child::after {width: 0;}#sk-container-id-2 div.sk-dashed-wrapped {border: 1px dashed gray;margin: 0 0.4em 0.5em 0.4em;box-sizing: border-box;padding-bottom: 0.4em;background-color: white;}#sk-container-id-2 div.sk-label label {font-family: monospace;font-weight: bold;display: inline-block;line-height: 1.2em;}#sk-container-id-2 div.sk-label-container {text-align: center;}#sk-container-id-2 div.sk-container {/* jupyter's `normalize.less` sets `[hidden] { display: none; }` but bootstrap.min.css set `[hidden] { display: none !important; }` so we also need the `!important` here to be able to override the default hidden behavior on the sphinx rendered scikit-learn.org. See: https://github.com/scikit-learn/scikit-learn/issues/21755 */display: inline-block !important;position: relative;}#sk-container-id-2 div.sk-text-repr-fallback {display: none;}</style><div id=\"sk-container-id-2\" class=\"sk-top-container\"><div class=\"sk-text-repr-fallback\"><pre>StandardScaler()</pre><b>In a Jupyter environment, please rerun this cell to show the HTML representation or trust the notebook. <br />On GitHub, the HTML representation is unable to render, please try loading this page with nbviewer.org.</b></div><div class=\"sk-container\" hidden><div class=\"sk-item\"><div class=\"sk-estimator sk-toggleable\"><input class=\"sk-toggleable__control sk-hidden--visually\" id=\"sk-estimator-id-2\" type=\"checkbox\" checked><label for=\"sk-estimator-id-2\" class=\"sk-toggleable__label sk-toggleable__label-arrow\">StandardScaler</label><div class=\"sk-toggleable__content\"><pre>StandardScaler()</pre></div></div></div></div></div>"
      ],
      "text/plain": [
       "StandardScaler()"
      ]
     },
     "execution_count": 12,
     "metadata": {},
     "output_type": "execute_result"
    }
   ],
   "source": [
    "scaler"
   ]
  },
  {
   "cell_type": "code",
   "execution_count": 13,
   "id": "aaeb7dbf",
   "metadata": {},
   "outputs": [
    {
     "data": {
      "text/html": [
       "<style>#sk-container-id-3 {color: black;}#sk-container-id-3 pre{padding: 0;}#sk-container-id-3 div.sk-toggleable {background-color: white;}#sk-container-id-3 label.sk-toggleable__label {cursor: pointer;display: block;width: 100%;margin-bottom: 0;padding: 0.3em;box-sizing: border-box;text-align: center;}#sk-container-id-3 label.sk-toggleable__label-arrow:before {content: \"▸\";float: left;margin-right: 0.25em;color: #696969;}#sk-container-id-3 label.sk-toggleable__label-arrow:hover:before {color: black;}#sk-container-id-3 div.sk-estimator:hover label.sk-toggleable__label-arrow:before {color: black;}#sk-container-id-3 div.sk-toggleable__content {max-height: 0;max-width: 0;overflow: hidden;text-align: left;background-color: #f0f8ff;}#sk-container-id-3 div.sk-toggleable__content pre {margin: 0.2em;color: black;border-radius: 0.25em;background-color: #f0f8ff;}#sk-container-id-3 input.sk-toggleable__control:checked~div.sk-toggleable__content {max-height: 200px;max-width: 100%;overflow: auto;}#sk-container-id-3 input.sk-toggleable__control:checked~label.sk-toggleable__label-arrow:before {content: \"▾\";}#sk-container-id-3 div.sk-estimator input.sk-toggleable__control:checked~label.sk-toggleable__label {background-color: #d4ebff;}#sk-container-id-3 div.sk-label input.sk-toggleable__control:checked~label.sk-toggleable__label {background-color: #d4ebff;}#sk-container-id-3 input.sk-hidden--visually {border: 0;clip: rect(1px 1px 1px 1px);clip: rect(1px, 1px, 1px, 1px);height: 1px;margin: -1px;overflow: hidden;padding: 0;position: absolute;width: 1px;}#sk-container-id-3 div.sk-estimator {font-family: monospace;background-color: #f0f8ff;border: 1px dotted black;border-radius: 0.25em;box-sizing: border-box;margin-bottom: 0.5em;}#sk-container-id-3 div.sk-estimator:hover {background-color: #d4ebff;}#sk-container-id-3 div.sk-parallel-item::after {content: \"\";width: 100%;border-bottom: 1px solid gray;flex-grow: 1;}#sk-container-id-3 div.sk-label:hover label.sk-toggleable__label {background-color: #d4ebff;}#sk-container-id-3 div.sk-serial::before {content: \"\";position: absolute;border-left: 1px solid gray;box-sizing: border-box;top: 0;bottom: 0;left: 50%;z-index: 0;}#sk-container-id-3 div.sk-serial {display: flex;flex-direction: column;align-items: center;background-color: white;padding-right: 0.2em;padding-left: 0.2em;position: relative;}#sk-container-id-3 div.sk-item {position: relative;z-index: 1;}#sk-container-id-3 div.sk-parallel {display: flex;align-items: stretch;justify-content: center;background-color: white;position: relative;}#sk-container-id-3 div.sk-item::before, #sk-container-id-3 div.sk-parallel-item::before {content: \"\";position: absolute;border-left: 1px solid gray;box-sizing: border-box;top: 0;bottom: 0;left: 50%;z-index: -1;}#sk-container-id-3 div.sk-parallel-item {display: flex;flex-direction: column;z-index: 1;position: relative;background-color: white;}#sk-container-id-3 div.sk-parallel-item:first-child::after {align-self: flex-end;width: 50%;}#sk-container-id-3 div.sk-parallel-item:last-child::after {align-self: flex-start;width: 50%;}#sk-container-id-3 div.sk-parallel-item:only-child::after {width: 0;}#sk-container-id-3 div.sk-dashed-wrapped {border: 1px dashed gray;margin: 0 0.4em 0.5em 0.4em;box-sizing: border-box;padding-bottom: 0.4em;background-color: white;}#sk-container-id-3 div.sk-label label {font-family: monospace;font-weight: bold;display: inline-block;line-height: 1.2em;}#sk-container-id-3 div.sk-label-container {text-align: center;}#sk-container-id-3 div.sk-container {/* jupyter's `normalize.less` sets `[hidden] { display: none; }` but bootstrap.min.css set `[hidden] { display: none !important; }` so we also need the `!important` here to be able to override the default hidden behavior on the sphinx rendered scikit-learn.org. See: https://github.com/scikit-learn/scikit-learn/issues/21755 */display: inline-block !important;position: relative;}#sk-container-id-3 div.sk-text-repr-fallback {display: none;}</style><div id=\"sk-container-id-3\" class=\"sk-top-container\"><div class=\"sk-text-repr-fallback\"><pre>OneHotEncoder(drop=&#x27;first&#x27;, sparse=False, sparse_output=False)</pre><b>In a Jupyter environment, please rerun this cell to show the HTML representation or trust the notebook. <br />On GitHub, the HTML representation is unable to render, please try loading this page with nbviewer.org.</b></div><div class=\"sk-container\" hidden><div class=\"sk-item\"><div class=\"sk-estimator sk-toggleable\"><input class=\"sk-toggleable__control sk-hidden--visually\" id=\"sk-estimator-id-3\" type=\"checkbox\" checked><label for=\"sk-estimator-id-3\" class=\"sk-toggleable__label sk-toggleable__label-arrow\">OneHotEncoder</label><div class=\"sk-toggleable__content\"><pre>OneHotEncoder(drop=&#x27;first&#x27;, sparse=False, sparse_output=False)</pre></div></div></div></div></div>"
      ],
      "text/plain": [
       "OneHotEncoder(drop='first', sparse=False, sparse_output=False)"
      ]
     },
     "execution_count": 13,
     "metadata": {},
     "output_type": "execute_result"
    }
   ],
   "source": [
    "encoder"
   ]
  },
  {
   "cell_type": "markdown",
   "id": "960e2bfb",
   "metadata": {},
   "source": [
    "### Verifying the KMeans Model"
   ]
  },
  {
   "cell_type": "code",
   "execution_count": 14,
   "id": "fac32f12",
   "metadata": {},
   "outputs": [
    {
     "name": "stdout",
     "output_type": "stream",
     "text": [
      "(16, 10)\n"
     ]
    }
   ],
   "source": [
    "# Print the shape of the KMeans cluster centers to verify the model is loaded correctly\n",
    "print(kmeans.cluster_centers_.shape)"
   ]
  },
  {
   "cell_type": "markdown",
   "id": "a3cb7012",
   "metadata": {},
   "source": [
    "## Book Recommender"
   ]
  },
  {
   "cell_type": "markdown",
   "id": "40b0974c",
   "metadata": {},
   "source": [
    "### Breakdown of the process:\n",
    "\n",
    "1. **User Input**: Ask the user for a book title and author, ensuring case insensitivity in the matching process.\n",
    "2. **Recommendation**: If the book is found in the `goodreads_rec_df`, recommend another book randomly from this dataframe.\n",
    "3. **Google Books API**: If the book is not found, use the Google Books API to extract the required information.\n",
    "4. **Preprocessing**: Preprocess this new data to fit the model, including sentiment analysis and encoding genres.\n",
    "5. **Model Prediction**: Use my saved KMeans model to predict the cluster for the new book.\n",
    "6. **Final Recommendation**: Recommend a book from the `final_df` that is in the same cluster as the user input."
   ]
  },
  {
   "cell_type": "markdown",
   "id": "24f80578",
   "metadata": {},
   "source": [
    "### Some specific considerations:\n",
    "    \n",
    "- For the Google API part, when for example I get genres like ['Fiction', 'Fantasy'], I would need to preprocess them to match the way my model was trained. I trained the model with genres in lowercase and only single genres per book, so I would need to apply a similar transformation to the genres I get from the Google Books API.\n",
    "\n",
    "- The function handles the cases where the genre might not be recognized by the encoder and defaults to 'other'. \n",
    "\n",
    "- It also makes sure to not recommend the exact book that the user has input by filtering it out from the recommendations. \n",
    "\n",
    "- In summary: The book recommendation process involves several steps, including user input, searching in a predefined list, fetching book info from an API if not found, preprocessing the data, and finally clustering and recommending a book from the same cluster.\n",
    "\n"
   ]
  },
  {
   "cell_type": "markdown",
   "id": "921734a2",
   "metadata": {},
   "source": [
    "### Try the recommender with a book that is present in the goodreads_rec_df"
   ]
  },
  {
   "cell_type": "code",
   "execution_count": 15,
   "id": "ca7ccde1",
   "metadata": {},
   "outputs": [
    {
     "name": "stdout",
     "output_type": "stream",
     "text": [
      "Enter the book title: happy place\n",
      "Enter the author's name: Emily Henry\n",
      "The book is already in our list. Here's a recommendation from our collection:\n",
      "Title: All the Dangerous Things\n",
      "Author: Stacy Willingham\n"
     ]
    },
    {
     "data": {
      "text/html": [
       "<img src=\"https://i.gr-assets.com/images/S/compressed.photo.goodreads.com/books/1652631076i/60784636._SY75_.jpg\" width=\"100\" class=\"unconfined\"/>"
      ],
      "text/plain": [
       "<IPython.core.display.Image object>"
      ]
     },
     "metadata": {},
     "output_type": "display_data"
    }
   ],
   "source": [
    "# Function to get user input\n",
    "def get_user_input():\n",
    "    title = input(\"Enter the book title: \").strip().lower()\n",
    "    author = input(\"Enter the author's name: \").strip().lower()\n",
    "    return title, author\n",
    "\n",
    "# Function to recommend a book from goodreads_rec_df\n",
    "def recommend_from_goodreads(title, author, goodreads_df):\n",
    "    match = goodreads_df[(goodreads_df['title'].str.lower() == title) & \n",
    "                         (goodreads_df['author'].str.lower() == author)]\n",
    "    if not match.empty:\n",
    "        print(\"The book is already in our list. Here's a recommendation from our collection:\")\n",
    "        recommendations = goodreads_df[goodreads_df['title'].str.lower() != title]\n",
    "        if not recommendations.empty:\n",
    "            recommendation = recommendations.sample(n=1).iloc[0]\n",
    "            print(f\"Title: {recommendation['title']}\")\n",
    "            print(f\"Author: {recommendation['author']}\")\n",
    "            display(Image(url=recommendation['image_url'], width=100, unconfined=True))\n",
    "            return True\n",
    "        else:\n",
    "            print(\"No other books found for recommendation.\")\n",
    "            return False\n",
    "    else:\n",
    "        print(\"Book not found in our list. Searching online...\")\n",
    "        return False\n",
    "\n",
    "# Function to preprocess genre similar to how I did during training\n",
    "def preprocess_genre(genres):\n",
    "    genres = set(genres.lower().split(', '))\n",
    "    model_genres = ['nonfiction', 'history', 'romance', 'other', 'fiction', 'childrens', 'fantasy']\n",
    "    processed_genres = []\n",
    "    for genre in genres:\n",
    "        if genre in model_genres:\n",
    "            processed_genres.append(genre)\n",
    "    \n",
    "    return processed_genres if processed_genres else ['other']\n",
    "\n",
    "# Function to fetch book info from Google Books API\n",
    "def fetch_book_info(title, author):\n",
    "    query = f'intitle:{title}+inauthor:{author}'\n",
    "    response = requests.get(f'https://www.googleapis.com/books/v1/volumes?q={query}')\n",
    "    if response.status_code == 200:\n",
    "        data = response.json()\n",
    "        if 'items' in data:\n",
    "            book_data = data['items'][0]['volumeInfo']\n",
    "            pages = book_data.get('pageCount', 0)\n",
    "            rating = book_data.get('averageRating', 0)\n",
    "            description = book_data.get('description', '')\n",
    "            genres = ', '.join(book_data.get('categories', []))\n",
    "            processed_genres = preprocess_genre(genres)\n",
    "            return {\n",
    "                'pages': pages,\n",
    "                'rating': rating,\n",
    "                'description': description,\n",
    "                'genre': processed_genres\n",
    "            }\n",
    "    else:\n",
    "        raise ValueError(\"Failed to fetch data from Google Books API\")\n",
    "\n",
    "# Function to preprocess and predict the cluster\n",
    "def preprocess_and_predict(book_info, kmeans, scaler, encoder):\n",
    "    # book_info['genre'] is already a list of lowercase genres\n",
    "    try:\n",
    "        # Transform the genre using the encoder\n",
    "        # We'll need to ensure the encoder expects a list of genres and not a single string\n",
    "        genre_processed = encoder.transform([book_info['genre']])\n",
    "    except ValueError:\n",
    "        # If the genre is unknown, set it to 'other'\n",
    "        genre_processed = encoder.transform([['other']])\n",
    "    \n",
    "    # Apply sentiment analysis on the description\n",
    "    polarity, subjectivity = TextBlob(book_info['description']).sentiment\n",
    "    \n",
    "    # Create a feature array\n",
    "    # Since genre_processed is a 2D array after encoding, we use genre_processed[0] to get the first row\n",
    "    features = np.array([[book_info['pages'], book_info['rating'], polarity, subjectivity] + list(genre_processed[0])])\n",
    "    \n",
    "    # Scale the numerical features 'pages' and 'rating'\n",
    "    features_scaled = scaler.transform(features[:, :2])\n",
    "    \n",
    "    # Combine scaled numerical features with preprocessed categorical features\n",
    "    features_combined = np.concatenate((features_scaled, features[:, 2:]), axis=1)\n",
    "    \n",
    "    # Predict the cluster for the new book\n",
    "    cluster_label = kmeans.predict(features_combined)\n",
    "    \n",
    "    return cluster_label\n",
    "\n",
    "# Function to recommend a book from the same cluster\n",
    "def recommend_from_cluster(cluster_label, final_df, title, author):\n",
    "    cluster_label = cluster_label[0]\n",
    "    cluster_books = final_df[final_df['cluster'] == cluster_label]\n",
    "    if not cluster_books.empty:\n",
    "        cluster_books = cluster_books[~((cluster_books['title'].str.lower() == title) & \n",
    "                                        (cluster_books['author'].str.lower() == author))]\n",
    "        if not cluster_books.empty:\n",
    "            recommendation = cluster_books.sample(n=1).iloc[0]\n",
    "            print(\"We recommend this book for you:\")\n",
    "            print(f\"Title: {recommendation['title']}\")\n",
    "            print(f\"Author: {recommendation['author']}\")\n",
    "            display(Image(url=recommendation['image_url'], width=100, unconfined=True))\n",
    "            print(f\"URL: {recommendation['url']}\")\n",
    "        else:\n",
    "            print(\"No other books found in the same cluster for recommendation.\")\n",
    "    else:\n",
    "        print(\"No books found in the same cluster.\")\n",
    "\n",
    "# Main function to run the recommender\n",
    "def run_recommender():\n",
    "    title, author = get_user_input()\n",
    "    recommendation_found = recommend_from_goodreads(title, author, goodreads_rec_df)\n",
    "    if not recommendation_found:\n",
    "        book_info = fetch_book_info(title, author)\n",
    "        if book_info:\n",
    "            cluster_label = preprocess_and_predict(book_info, kmeans, scaler, encoder)\n",
    "            recommend_from_cluster(cluster_label, final_df, title, author)\n",
    "        else:\n",
    "            print(\"Unable to find the book online.\")\n",
    "\n",
    "# Run the recommender\n",
    "run_recommender()"
   ]
  },
  {
   "cell_type": "markdown",
   "id": "2448e781",
   "metadata": {},
   "source": [
    "### Try the recommender with a book that is NOT present in the goodreads_rec_df"
   ]
  },
  {
   "cell_type": "code",
   "execution_count": 18,
   "id": "028ae06a",
   "metadata": {},
   "outputs": [
    {
     "name": "stdout",
     "output_type": "stream",
     "text": [
      "Enter the book title: hunger games\n",
      "Enter the author's name: Suzanne Collins\n",
      "Book not found in our list. Searching online...\n",
      "We recommend this book for you:\n",
      "Title: Lessons from the Heart\n",
      "Author: Dorothy Clark\n"
     ]
    },
    {
     "data": {
      "text/html": [
       "<img src=\"https://i.gr-assets.com/images/S/compressed.photo.goodreads.com/books/1183465555l/1421293._SY475_.jpg\" width=\"100\" class=\"unconfined\"/>"
      ],
      "text/plain": [
       "<IPython.core.display.Image object>"
      ]
     },
     "metadata": {},
     "output_type": "display_data"
    },
    {
     "name": "stdout",
     "output_type": "stream",
     "text": [
      "URL: https://goodreads.com/book/show/1421293.Lessons_from_the_Heart\n"
     ]
    }
   ],
   "source": [
    "# Run the recommender\n",
    "run_recommender()"
   ]
  },
  {
   "cell_type": "markdown",
   "id": "cd5b7e18",
   "metadata": {},
   "source": [
    "### More recommender tries"
   ]
  },
  {
   "cell_type": "code",
   "execution_count": 20,
   "id": "a67792b7",
   "metadata": {},
   "outputs": [
    {
     "name": "stdout",
     "output_type": "stream",
     "text": [
      "Enter the book title: Yellowface\n",
      "Enter the author's name: R.F. Kuang\n",
      "The book is already in our list. Here's a recommendation from our collection:\n",
      "Title: Go as a River\n",
      "Author: Shelley Read\n"
     ]
    },
    {
     "data": {
      "text/html": [
       "<img src=\"https://i.gr-assets.com/images/S/compressed.photo.goodreads.com/books/1670147458i/63922274._SY75_.jpg\" width=\"100\" class=\"unconfined\"/>"
      ],
      "text/plain": [
       "<IPython.core.display.Image object>"
      ]
     },
     "metadata": {},
     "output_type": "display_data"
    }
   ],
   "source": [
    "run_recommender()"
   ]
  },
  {
   "cell_type": "code",
   "execution_count": 22,
   "id": "d325a729",
   "metadata": {},
   "outputs": [
    {
     "name": "stdout",
     "output_type": "stream",
     "text": [
      "Enter the book title: 1984\n",
      "Enter the author's name: George Orwell\n",
      "Book not found in our list. Searching online...\n",
      "We recommend this book for you:\n",
      "Title: Osaka: The Merchants' Capital of Early Modern Japan\n",
      "Author: James L. McClain,Wakita Osamu,Wakita Haruko,Uchida Kusuo\n"
     ]
    },
    {
     "data": {
      "text/html": [
       "<img src=\"https://i.gr-assets.com/images/S/compressed.photo.goodreads.com/books/1180787611l/1076775._SX318_.jpg\" width=\"100\" class=\"unconfined\"/>"
      ],
      "text/plain": [
       "<IPython.core.display.Image object>"
      ]
     },
     "metadata": {},
     "output_type": "display_data"
    },
    {
     "name": "stdout",
     "output_type": "stream",
     "text": [
      "URL: https://goodreads.com/book/show/1076775.Osaka\n"
     ]
    }
   ],
   "source": [
    "run_recommender()"
   ]
  }
 ],
 "metadata": {
  "kernelspec": {
   "display_name": "Python 3 (ipykernel)",
   "language": "python",
   "name": "python3"
  },
  "language_info": {
   "codemirror_mode": {
    "name": "ipython",
    "version": 3
   },
   "file_extension": ".py",
   "mimetype": "text/x-python",
   "name": "python",
   "nbconvert_exporter": "python",
   "pygments_lexer": "ipython3",
   "version": "3.9.18"
  }
 },
 "nbformat": 4,
 "nbformat_minor": 5
}
