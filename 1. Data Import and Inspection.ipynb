{
 "cells": [
  {
   "cell_type": "markdown",
   "id": "cb05e9da",
   "metadata": {},
   "source": [
    "# DATA IMPORT AND INSPECTION"
   ]
  },
  {
   "cell_type": "markdown",
   "id": "1c3a28db",
   "metadata": {},
   "source": [
    "⚠️**NOTE:** In this notebook, I share the initial data inspection that I conducted. Due to potential future issues and time constraints, I've decided to focus primarily on utilizing only the \"books_df\" dataset and the one I personally scraped from the Goodreads website, while many other datasets included in this notebook may not be used.\n",
    "\n",
    "Anyway, I'll leave them here to share the information and the code in case I want to improve my book recommender in the future and thus be able to use them."
   ]
  },
  {
   "cell_type": "markdown",
   "id": "65086eb4",
   "metadata": {},
   "source": [
    "## Import Libraries"
   ]
  },
  {
   "cell_type": "code",
   "execution_count": 1,
   "id": "0320260e",
   "metadata": {},
   "outputs": [],
   "source": [
    "import pandas as pd\n",
    "import numpy as np\n",
    "import requests\n",
    "from bs4 import BeautifulSoup\n",
    "from IPython.display import Image, display\n",
    "from IPython.display import HTML\n",
    "\n",
    "import warnings\n",
    "warnings.filterwarnings(\"ignore\")"
   ]
  },
  {
   "cell_type": "markdown",
   "id": "872d6b61",
   "metadata": {},
   "source": [
    "## Load the Data"
   ]
  },
  {
   "cell_type": "code",
   "execution_count": 2,
   "id": "41843475",
   "metadata": {},
   "outputs": [
    {
     "name": "stderr",
     "output_type": "stream",
     "text": [
      "Skipping line 3350: expected 12 fields, saw 13\n",
      "Skipping line 4704: expected 12 fields, saw 13\n",
      "Skipping line 5879: expected 12 fields, saw 13\n",
      "Skipping line 8981: expected 12 fields, saw 13\n",
      "\n"
     ]
    }
   ],
   "source": [
    "books_df = pd.read_csv('GoodReads_100k_books.csv')\n",
    "ratings_df = pd.read_csv('Ratings.csv')\n",
    "books_df_2 = pd.read_csv('Books.csv')\n",
    "users_df = pd.read_csv('Users.csv')\n",
    "top100_df = pd.read_csv('Top-100 Trending Books.csv')\n",
    "customers_df = pd.read_csv('customer reviews.csv')\n",
    "\n",
    "# Attempt to read a CSV file named 'gr_books.csv' into a Pandas DataFrame.\n",
    "try:\n",
    "    gr_books_df = pd.read_csv('gr_books.csv', error_bad_lines=False)\n",
    "    \n",
    "# If there is an exception (specifically, a ParserError) while parsing the CSV file,\n",
    "# print an error message that includes the details of the exception.\n",
    "except pd.errors.ParserError as e:\n",
    "    print(f\"Error parsing 'gr_books.csv': {e}\")"
   ]
  },
  {
   "cell_type": "markdown",
   "id": "756f941a",
   "metadata": {},
   "source": [
    "## Web Scrapping Goodreads Best Books of 2023\n",
    "\n",
    "The top 100 best books published during 2023. \n",
    "- For further explanation check the previous notebook \"0. Dataset Links and Explanations\"."
   ]
  },
  {
   "cell_type": "code",
   "execution_count": 3,
   "id": "84246c11",
   "metadata": {},
   "outputs": [
    {
     "data": {
      "text/html": [
       "<div>\n",
       "<style scoped>\n",
       "    .dataframe tbody tr th:only-of-type {\n",
       "        vertical-align: middle;\n",
       "    }\n",
       "\n",
       "    .dataframe tbody tr th {\n",
       "        vertical-align: top;\n",
       "    }\n",
       "\n",
       "    .dataframe thead th {\n",
       "        text-align: right;\n",
       "    }\n",
       "</style>\n",
       "<table border=\"1\" class=\"dataframe\">\n",
       "  <thead>\n",
       "    <tr style=\"text-align: right;\">\n",
       "      <th></th>\n",
       "      <th>Title</th>\n",
       "      <th>Author</th>\n",
       "      <th>Image URL</th>\n",
       "      <th>Rating</th>\n",
       "    </tr>\n",
       "  </thead>\n",
       "  <tbody>\n",
       "    <tr>\n",
       "      <th>0</th>\n",
       "      <td>Fourth Wing (The Empyrean, #1)</td>\n",
       "      <td>Rebecca Yarros</td>\n",
       "      <td>https://i.gr-assets.com/images/S/compressed.ph...</td>\n",
       "      <td>4.63 avg rating — 858,170 ratings</td>\n",
       "    </tr>\n",
       "    <tr>\n",
       "      <th>1</th>\n",
       "      <td>Happy Place</td>\n",
       "      <td>Emily Henry</td>\n",
       "      <td>https://i.gr-assets.com/images/S/compressed.ph...</td>\n",
       "      <td>4.06 avg rating — 578,174 ratings</td>\n",
       "    </tr>\n",
       "    <tr>\n",
       "      <th>2</th>\n",
       "      <td>Yellowface</td>\n",
       "      <td>R.F. Kuang</td>\n",
       "      <td>https://i.gr-assets.com/images/S/compressed.ph...</td>\n",
       "      <td>3.87 avg rating — 230,939 ratings</td>\n",
       "    </tr>\n",
       "    <tr>\n",
       "      <th>3</th>\n",
       "      <td>Love, Theoretically</td>\n",
       "      <td>Ali Hazelwood</td>\n",
       "      <td>https://i.gr-assets.com/images/S/compressed.ph...</td>\n",
       "      <td>4.16 avg rating — 242,107 ratings</td>\n",
       "    </tr>\n",
       "    <tr>\n",
       "      <th>4</th>\n",
       "      <td>Divine Rivals (Letters of Enchantment, #1)</td>\n",
       "      <td>Rebecca   Ross</td>\n",
       "      <td>https://i.gr-assets.com/images/S/compressed.ph...</td>\n",
       "      <td>4.26 avg rating — 164,652 ratings</td>\n",
       "    </tr>\n",
       "    <tr>\n",
       "      <th>...</th>\n",
       "      <td>...</td>\n",
       "      <td>...</td>\n",
       "      <td>...</td>\n",
       "      <td>...</td>\n",
       "    </tr>\n",
       "    <tr>\n",
       "      <th>95</th>\n",
       "      <td>Poverty, by America</td>\n",
       "      <td>Matthew Desmond</td>\n",
       "      <td>https://i.gr-assets.com/images/S/compressed.ph...</td>\n",
       "      <td>4.30 avg rating — 20,742 ratings</td>\n",
       "    </tr>\n",
       "    <tr>\n",
       "      <th>96</th>\n",
       "      <td>The Perfumist of Paris (The Jaipur Trilogy, #3)</td>\n",
       "      <td>Alka Joshi</td>\n",
       "      <td>https://i.gr-assets.com/images/S/compressed.ph...</td>\n",
       "      <td>4.17 avg rating — 19,269 ratings</td>\n",
       "    </tr>\n",
       "    <tr>\n",
       "      <th>97</th>\n",
       "      <td>A Fire in the Flesh (Flesh and Fire, #3)</td>\n",
       "      <td>Jennifer L. Armentrout</td>\n",
       "      <td>https://i.gr-assets.com/images/S/compressed.ph...</td>\n",
       "      <td>4.12 avg rating — 22,872 ratings</td>\n",
       "    </tr>\n",
       "    <tr>\n",
       "      <th>98</th>\n",
       "      <td>Finlay Donovan Jumps the Gun (Finlay Donovan, #3)</td>\n",
       "      <td>Elle Cosimano</td>\n",
       "      <td>https://i.gr-assets.com/images/S/compressed.ph...</td>\n",
       "      <td>3.82 avg rating — 43,273 ratings</td>\n",
       "    </tr>\n",
       "    <tr>\n",
       "      <th>99</th>\n",
       "      <td>Really Good, Actually</td>\n",
       "      <td>Monica Heisey</td>\n",
       "      <td>https://i.gr-assets.com/images/S/compressed.ph...</td>\n",
       "      <td>3.17 avg rating — 52,406 ratings</td>\n",
       "    </tr>\n",
       "  </tbody>\n",
       "</table>\n",
       "<p>100 rows × 4 columns</p>\n",
       "</div>"
      ],
      "text/plain": [
       "                                                Title                  Author  \\\n",
       "0                      Fourth Wing (The Empyrean, #1)          Rebecca Yarros   \n",
       "1                                         Happy Place             Emily Henry   \n",
       "2                                          Yellowface              R.F. Kuang   \n",
       "3                                 Love, Theoretically           Ali Hazelwood   \n",
       "4          Divine Rivals (Letters of Enchantment, #1)          Rebecca   Ross   \n",
       "..                                                ...                     ...   \n",
       "95                                Poverty, by America         Matthew Desmond   \n",
       "96    The Perfumist of Paris (The Jaipur Trilogy, #3)              Alka Joshi   \n",
       "97           A Fire in the Flesh (Flesh and Fire, #3)  Jennifer L. Armentrout   \n",
       "98  Finlay Donovan Jumps the Gun (Finlay Donovan, #3)           Elle Cosimano   \n",
       "99                              Really Good, Actually           Monica Heisey   \n",
       "\n",
       "                                            Image URL  \\\n",
       "0   https://i.gr-assets.com/images/S/compressed.ph...   \n",
       "1   https://i.gr-assets.com/images/S/compressed.ph...   \n",
       "2   https://i.gr-assets.com/images/S/compressed.ph...   \n",
       "3   https://i.gr-assets.com/images/S/compressed.ph...   \n",
       "4   https://i.gr-assets.com/images/S/compressed.ph...   \n",
       "..                                                ...   \n",
       "95  https://i.gr-assets.com/images/S/compressed.ph...   \n",
       "96  https://i.gr-assets.com/images/S/compressed.ph...   \n",
       "97  https://i.gr-assets.com/images/S/compressed.ph...   \n",
       "98  https://i.gr-assets.com/images/S/compressed.ph...   \n",
       "99  https://i.gr-assets.com/images/S/compressed.ph...   \n",
       "\n",
       "                               Rating  \n",
       "0   4.63 avg rating — 858,170 ratings  \n",
       "1   4.06 avg rating — 578,174 ratings  \n",
       "2   3.87 avg rating — 230,939 ratings  \n",
       "3   4.16 avg rating — 242,107 ratings  \n",
       "4   4.26 avg rating — 164,652 ratings  \n",
       "..                                ...  \n",
       "95   4.30 avg rating — 20,742 ratings  \n",
       "96   4.17 avg rating — 19,269 ratings  \n",
       "97   4.12 avg rating — 22,872 ratings  \n",
       "98   3.82 avg rating — 43,273 ratings  \n",
       "99   3.17 avg rating — 52,406 ratings  \n",
       "\n",
       "[100 rows x 4 columns]"
      ]
     },
     "execution_count": 3,
     "metadata": {},
     "output_type": "execute_result"
    }
   ],
   "source": [
    "# The URL of the Goodreads page to scrape\n",
    "url = 'https://www.goodreads.com/list/best_of_year/2023'\n",
    "\n",
    "# Send the GET request to the Goodreads URL\n",
    "response = requests.get(url)\n",
    "soup = BeautifulSoup(response.content, 'html.parser')\n",
    "\n",
    "# Lists to store the book data\n",
    "book_titles = []\n",
    "book_authors = []\n",
    "book_images = []\n",
    "book_ratings = []\n",
    "\n",
    "# Loop over the rows in the table\n",
    "for row in soup.select('table.tableList tr'):\n",
    "    # Extracting the book title\n",
    "    title_element = row.select_one('td:nth-child(3) a span[itemprop=\"name\"]')\n",
    "    book_titles.append(title_element.get_text(strip=True) if title_element else 'Title Not Found')\n",
    "\n",
    "    # Extracting the author name\n",
    "    author_element = row.select_one('td:nth-child(3) .authorName span[itemprop=\"name\"]')\n",
    "    book_authors.append(author_element.get_text(strip=True) if author_element else 'Author Not Found')\n",
    "\n",
    "    # Extracting the image source\n",
    "    image_element = row.select_one('td:nth-child(2) .bookCover')\n",
    "    book_images.append(image_element['src'] if image_element else 'Image Not Found')\n",
    "\n",
    "    # Extracting the rating\n",
    "    rating_element = row.select_one('td:nth-child(3) .minirating')\n",
    "    book_ratings.append(rating_element.get_text(strip=True) if rating_element else 'Rating Not Found')\n",
    "\n",
    "# Create a DataFrame with the scraped data\n",
    "goodreads_df = pd.DataFrame({\n",
    "    'Title': book_titles,\n",
    "    'Author': book_authors,\n",
    "    'Image URL': book_images,\n",
    "    'Rating': book_ratings\n",
    "})\n",
    "\n",
    "# Display the DataFrame\n",
    "goodreads_df"
   ]
  },
  {
   "cell_type": "markdown",
   "id": "8aa166e1",
   "metadata": {},
   "source": [
    "### Save the scrapped DataFrame to a CSV File"
   ]
  },
  {
   "cell_type": "code",
   "execution_count": 4,
   "id": "a64823c3",
   "metadata": {},
   "outputs": [],
   "source": [
    "goodreads_df.to_csv('goodreads_webscrap.csv', index=False)"
   ]
  },
  {
   "cell_type": "markdown",
   "id": "56896372",
   "metadata": {},
   "source": [
    "## Inspect the first rows and the shape of each dataframe"
   ]
  },
  {
   "cell_type": "markdown",
   "id": "cc825b04",
   "metadata": {},
   "source": [
    "#### Books"
   ]
  },
  {
   "cell_type": "code",
   "execution_count": 5,
   "id": "1bc67f46",
   "metadata": {},
   "outputs": [
    {
     "data": {
      "text/html": [
       "<div>\n",
       "<style scoped>\n",
       "    .dataframe tbody tr th:only-of-type {\n",
       "        vertical-align: middle;\n",
       "    }\n",
       "\n",
       "    .dataframe tbody tr th {\n",
       "        vertical-align: top;\n",
       "    }\n",
       "\n",
       "    .dataframe thead th {\n",
       "        text-align: right;\n",
       "    }\n",
       "</style>\n",
       "<table border=\"1\" class=\"dataframe\">\n",
       "  <thead>\n",
       "    <tr style=\"text-align: right;\">\n",
       "      <th></th>\n",
       "      <th>author</th>\n",
       "      <th>bookformat</th>\n",
       "      <th>desc</th>\n",
       "      <th>genre</th>\n",
       "      <th>img</th>\n",
       "      <th>isbn</th>\n",
       "      <th>isbn13</th>\n",
       "      <th>link</th>\n",
       "      <th>pages</th>\n",
       "      <th>rating</th>\n",
       "      <th>reviews</th>\n",
       "      <th>title</th>\n",
       "      <th>totalratings</th>\n",
       "    </tr>\n",
       "  </thead>\n",
       "  <tbody>\n",
       "    <tr>\n",
       "      <th>0</th>\n",
       "      <td>Laurence M. Hauptman</td>\n",
       "      <td>Hardcover</td>\n",
       "      <td>Reveals that several hundred thousand Indians ...</td>\n",
       "      <td>History,Military History,Civil War,American Hi...</td>\n",
       "      <td>https://i.gr-assets.com/images/S/compressed.ph...</td>\n",
       "      <td>002914180X</td>\n",
       "      <td>9.78E+12</td>\n",
       "      <td>https://goodreads.com/book/show/1001053.Betwee...</td>\n",
       "      <td>0</td>\n",
       "      <td>3.52</td>\n",
       "      <td>5</td>\n",
       "      <td>Between Two Fires: American Indians in the Civ...</td>\n",
       "      <td>33</td>\n",
       "    </tr>\n",
       "    <tr>\n",
       "      <th>1</th>\n",
       "      <td>Charlotte Fiell,Emmanuelle Dirix</td>\n",
       "      <td>Paperback</td>\n",
       "      <td>Fashion Sourcebook - 1920s is the first book i...</td>\n",
       "      <td>Couture,Fashion,Historical,Art,Nonfiction</td>\n",
       "      <td>https://i.gr-assets.com/images/S/compressed.ph...</td>\n",
       "      <td>1906863482</td>\n",
       "      <td>9.78E+12</td>\n",
       "      <td>https://goodreads.com/book/show/10010552-fashi...</td>\n",
       "      <td>576</td>\n",
       "      <td>4.51</td>\n",
       "      <td>6</td>\n",
       "      <td>Fashion Sourcebook 1920s</td>\n",
       "      <td>41</td>\n",
       "    </tr>\n",
       "    <tr>\n",
       "      <th>2</th>\n",
       "      <td>Andy Anderson</td>\n",
       "      <td>Paperback</td>\n",
       "      <td>The seminal history and analysis of the Hungar...</td>\n",
       "      <td>Politics,History</td>\n",
       "      <td>https://i.gr-assets.com/images/S/compressed.ph...</td>\n",
       "      <td>948984147</td>\n",
       "      <td>9.78E+12</td>\n",
       "      <td>https://goodreads.com/book/show/1001077.Hungar...</td>\n",
       "      <td>124</td>\n",
       "      <td>4.15</td>\n",
       "      <td>2</td>\n",
       "      <td>Hungary 56</td>\n",
       "      <td>26</td>\n",
       "    </tr>\n",
       "    <tr>\n",
       "      <th>3</th>\n",
       "      <td>Carlotta R. Anderson</td>\n",
       "      <td>Hardcover</td>\n",
       "      <td>\"All-American Anarchist\" chronicles the life a...</td>\n",
       "      <td>Labor,History</td>\n",
       "      <td>https://i.gr-assets.com/images/S/compressed.ph...</td>\n",
       "      <td>814327079</td>\n",
       "      <td>9.78E+12</td>\n",
       "      <td>https://goodreads.com/book/show/1001079.All_Am...</td>\n",
       "      <td>324</td>\n",
       "      <td>3.83</td>\n",
       "      <td>1</td>\n",
       "      <td>All-American Anarchist: Joseph A. Labadie and ...</td>\n",
       "      <td>6</td>\n",
       "    </tr>\n",
       "    <tr>\n",
       "      <th>4</th>\n",
       "      <td>Jean Leveille</td>\n",
       "      <td>NaN</td>\n",
       "      <td>Aujourdâ€™hui, lâ€™oiseau nous invite Ã  sa ta...</td>\n",
       "      <td>NaN</td>\n",
       "      <td>https://i.gr-assets.com/images/S/compressed.ph...</td>\n",
       "      <td>2761920813</td>\n",
       "      <td>NaN</td>\n",
       "      <td>https://goodreads.com/book/show/10010880-les-o...</td>\n",
       "      <td>177</td>\n",
       "      <td>4.00</td>\n",
       "      <td>1</td>\n",
       "      <td>Les oiseaux gourmands</td>\n",
       "      <td>1</td>\n",
       "    </tr>\n",
       "  </tbody>\n",
       "</table>\n",
       "</div>"
      ],
      "text/plain": [
       "                             author bookformat  \\\n",
       "0              Laurence M. Hauptman  Hardcover   \n",
       "1  Charlotte Fiell,Emmanuelle Dirix  Paperback   \n",
       "2                     Andy Anderson  Paperback   \n",
       "3              Carlotta R. Anderson  Hardcover   \n",
       "4                     Jean Leveille        NaN   \n",
       "\n",
       "                                                desc  \\\n",
       "0  Reveals that several hundred thousand Indians ...   \n",
       "1  Fashion Sourcebook - 1920s is the first book i...   \n",
       "2  The seminal history and analysis of the Hungar...   \n",
       "3  \"All-American Anarchist\" chronicles the life a...   \n",
       "4  Aujourdâ€™hui, lâ€™oiseau nous invite Ã  sa ta...   \n",
       "\n",
       "                                               genre  \\\n",
       "0  History,Military History,Civil War,American Hi...   \n",
       "1          Couture,Fashion,Historical,Art,Nonfiction   \n",
       "2                                   Politics,History   \n",
       "3                                      Labor,History   \n",
       "4                                                NaN   \n",
       "\n",
       "                                                 img        isbn    isbn13  \\\n",
       "0  https://i.gr-assets.com/images/S/compressed.ph...  002914180X  9.78E+12   \n",
       "1  https://i.gr-assets.com/images/S/compressed.ph...  1906863482  9.78E+12   \n",
       "2  https://i.gr-assets.com/images/S/compressed.ph...   948984147  9.78E+12   \n",
       "3  https://i.gr-assets.com/images/S/compressed.ph...   814327079  9.78E+12   \n",
       "4  https://i.gr-assets.com/images/S/compressed.ph...  2761920813       NaN   \n",
       "\n",
       "                                                link  pages  rating  reviews  \\\n",
       "0  https://goodreads.com/book/show/1001053.Betwee...      0    3.52        5   \n",
       "1  https://goodreads.com/book/show/10010552-fashi...    576    4.51        6   \n",
       "2  https://goodreads.com/book/show/1001077.Hungar...    124    4.15        2   \n",
       "3  https://goodreads.com/book/show/1001079.All_Am...    324    3.83        1   \n",
       "4  https://goodreads.com/book/show/10010880-les-o...    177    4.00        1   \n",
       "\n",
       "                                               title  totalratings  \n",
       "0  Between Two Fires: American Indians in the Civ...            33  \n",
       "1                           Fashion Sourcebook 1920s            41  \n",
       "2                                         Hungary 56            26  \n",
       "3  All-American Anarchist: Joseph A. Labadie and ...             6  \n",
       "4                              Les oiseaux gourmands             1  "
      ]
     },
     "execution_count": 5,
     "metadata": {},
     "output_type": "execute_result"
    }
   ],
   "source": [
    "books_df.head()"
   ]
  },
  {
   "cell_type": "markdown",
   "id": "f68ccf44",
   "metadata": {},
   "source": [
    "#### Ratings"
   ]
  },
  {
   "cell_type": "code",
   "execution_count": 6,
   "id": "678f612b",
   "metadata": {},
   "outputs": [
    {
     "data": {
      "text/html": [
       "<div>\n",
       "<style scoped>\n",
       "    .dataframe tbody tr th:only-of-type {\n",
       "        vertical-align: middle;\n",
       "    }\n",
       "\n",
       "    .dataframe tbody tr th {\n",
       "        vertical-align: top;\n",
       "    }\n",
       "\n",
       "    .dataframe thead th {\n",
       "        text-align: right;\n",
       "    }\n",
       "</style>\n",
       "<table border=\"1\" class=\"dataframe\">\n",
       "  <thead>\n",
       "    <tr style=\"text-align: right;\">\n",
       "      <th></th>\n",
       "      <th>User-ID</th>\n",
       "      <th>ISBN</th>\n",
       "      <th>Book-Rating</th>\n",
       "    </tr>\n",
       "  </thead>\n",
       "  <tbody>\n",
       "    <tr>\n",
       "      <th>0</th>\n",
       "      <td>276725</td>\n",
       "      <td>034545104X</td>\n",
       "      <td>0</td>\n",
       "    </tr>\n",
       "    <tr>\n",
       "      <th>1</th>\n",
       "      <td>276726</td>\n",
       "      <td>0155061224</td>\n",
       "      <td>5</td>\n",
       "    </tr>\n",
       "    <tr>\n",
       "      <th>2</th>\n",
       "      <td>276727</td>\n",
       "      <td>0446520802</td>\n",
       "      <td>0</td>\n",
       "    </tr>\n",
       "    <tr>\n",
       "      <th>3</th>\n",
       "      <td>276729</td>\n",
       "      <td>052165615X</td>\n",
       "      <td>3</td>\n",
       "    </tr>\n",
       "    <tr>\n",
       "      <th>4</th>\n",
       "      <td>276729</td>\n",
       "      <td>0521795028</td>\n",
       "      <td>6</td>\n",
       "    </tr>\n",
       "  </tbody>\n",
       "</table>\n",
       "</div>"
      ],
      "text/plain": [
       "   User-ID        ISBN  Book-Rating\n",
       "0   276725  034545104X            0\n",
       "1   276726  0155061224            5\n",
       "2   276727  0446520802            0\n",
       "3   276729  052165615X            3\n",
       "4   276729  0521795028            6"
      ]
     },
     "execution_count": 6,
     "metadata": {},
     "output_type": "execute_result"
    }
   ],
   "source": [
    "ratings_df.head()"
   ]
  },
  {
   "cell_type": "markdown",
   "id": "00afd76d",
   "metadata": {},
   "source": [
    "#### Books 2"
   ]
  },
  {
   "cell_type": "code",
   "execution_count": 7,
   "id": "6157b3b5",
   "metadata": {},
   "outputs": [
    {
     "data": {
      "text/html": [
       "<div>\n",
       "<style scoped>\n",
       "    .dataframe tbody tr th:only-of-type {\n",
       "        vertical-align: middle;\n",
       "    }\n",
       "\n",
       "    .dataframe tbody tr th {\n",
       "        vertical-align: top;\n",
       "    }\n",
       "\n",
       "    .dataframe thead th {\n",
       "        text-align: right;\n",
       "    }\n",
       "</style>\n",
       "<table border=\"1\" class=\"dataframe\">\n",
       "  <thead>\n",
       "    <tr style=\"text-align: right;\">\n",
       "      <th></th>\n",
       "      <th>ISBN</th>\n",
       "      <th>Book-Title</th>\n",
       "      <th>Book-Author</th>\n",
       "      <th>Year-Of-Publication</th>\n",
       "      <th>Publisher</th>\n",
       "      <th>Image-URL-S</th>\n",
       "      <th>Image-URL-M</th>\n",
       "      <th>Image-URL-L</th>\n",
       "    </tr>\n",
       "  </thead>\n",
       "  <tbody>\n",
       "    <tr>\n",
       "      <th>0</th>\n",
       "      <td>0195153448</td>\n",
       "      <td>Classical Mythology</td>\n",
       "      <td>Mark P. O. Morford</td>\n",
       "      <td>2002</td>\n",
       "      <td>Oxford University Press</td>\n",
       "      <td>http://images.amazon.com/images/P/0195153448.0...</td>\n",
       "      <td>http://images.amazon.com/images/P/0195153448.0...</td>\n",
       "      <td>http://images.amazon.com/images/P/0195153448.0...</td>\n",
       "    </tr>\n",
       "    <tr>\n",
       "      <th>1</th>\n",
       "      <td>0002005018</td>\n",
       "      <td>Clara Callan</td>\n",
       "      <td>Richard Bruce Wright</td>\n",
       "      <td>2001</td>\n",
       "      <td>HarperFlamingo Canada</td>\n",
       "      <td>http://images.amazon.com/images/P/0002005018.0...</td>\n",
       "      <td>http://images.amazon.com/images/P/0002005018.0...</td>\n",
       "      <td>http://images.amazon.com/images/P/0002005018.0...</td>\n",
       "    </tr>\n",
       "    <tr>\n",
       "      <th>2</th>\n",
       "      <td>0060973129</td>\n",
       "      <td>Decision in Normandy</td>\n",
       "      <td>Carlo D'Este</td>\n",
       "      <td>1991</td>\n",
       "      <td>HarperPerennial</td>\n",
       "      <td>http://images.amazon.com/images/P/0060973129.0...</td>\n",
       "      <td>http://images.amazon.com/images/P/0060973129.0...</td>\n",
       "      <td>http://images.amazon.com/images/P/0060973129.0...</td>\n",
       "    </tr>\n",
       "    <tr>\n",
       "      <th>3</th>\n",
       "      <td>0374157065</td>\n",
       "      <td>Flu: The Story of the Great Influenza Pandemic...</td>\n",
       "      <td>Gina Bari Kolata</td>\n",
       "      <td>1999</td>\n",
       "      <td>Farrar Straus Giroux</td>\n",
       "      <td>http://images.amazon.com/images/P/0374157065.0...</td>\n",
       "      <td>http://images.amazon.com/images/P/0374157065.0...</td>\n",
       "      <td>http://images.amazon.com/images/P/0374157065.0...</td>\n",
       "    </tr>\n",
       "    <tr>\n",
       "      <th>4</th>\n",
       "      <td>0393045218</td>\n",
       "      <td>The Mummies of Urumchi</td>\n",
       "      <td>E. J. W. Barber</td>\n",
       "      <td>1999</td>\n",
       "      <td>W. W. Norton &amp;amp; Company</td>\n",
       "      <td>http://images.amazon.com/images/P/0393045218.0...</td>\n",
       "      <td>http://images.amazon.com/images/P/0393045218.0...</td>\n",
       "      <td>http://images.amazon.com/images/P/0393045218.0...</td>\n",
       "    </tr>\n",
       "  </tbody>\n",
       "</table>\n",
       "</div>"
      ],
      "text/plain": [
       "         ISBN                                         Book-Title  \\\n",
       "0  0195153448                                Classical Mythology   \n",
       "1  0002005018                                       Clara Callan   \n",
       "2  0060973129                               Decision in Normandy   \n",
       "3  0374157065  Flu: The Story of the Great Influenza Pandemic...   \n",
       "4  0393045218                             The Mummies of Urumchi   \n",
       "\n",
       "            Book-Author Year-Of-Publication                   Publisher  \\\n",
       "0    Mark P. O. Morford                2002     Oxford University Press   \n",
       "1  Richard Bruce Wright                2001       HarperFlamingo Canada   \n",
       "2          Carlo D'Este                1991             HarperPerennial   \n",
       "3      Gina Bari Kolata                1999        Farrar Straus Giroux   \n",
       "4       E. J. W. Barber                1999  W. W. Norton &amp; Company   \n",
       "\n",
       "                                         Image-URL-S  \\\n",
       "0  http://images.amazon.com/images/P/0195153448.0...   \n",
       "1  http://images.amazon.com/images/P/0002005018.0...   \n",
       "2  http://images.amazon.com/images/P/0060973129.0...   \n",
       "3  http://images.amazon.com/images/P/0374157065.0...   \n",
       "4  http://images.amazon.com/images/P/0393045218.0...   \n",
       "\n",
       "                                         Image-URL-M  \\\n",
       "0  http://images.amazon.com/images/P/0195153448.0...   \n",
       "1  http://images.amazon.com/images/P/0002005018.0...   \n",
       "2  http://images.amazon.com/images/P/0060973129.0...   \n",
       "3  http://images.amazon.com/images/P/0374157065.0...   \n",
       "4  http://images.amazon.com/images/P/0393045218.0...   \n",
       "\n",
       "                                         Image-URL-L  \n",
       "0  http://images.amazon.com/images/P/0195153448.0...  \n",
       "1  http://images.amazon.com/images/P/0002005018.0...  \n",
       "2  http://images.amazon.com/images/P/0060973129.0...  \n",
       "3  http://images.amazon.com/images/P/0374157065.0...  \n",
       "4  http://images.amazon.com/images/P/0393045218.0...  "
      ]
     },
     "execution_count": 7,
     "metadata": {},
     "output_type": "execute_result"
    }
   ],
   "source": [
    "books_df_2.head()"
   ]
  },
  {
   "cell_type": "markdown",
   "id": "ff49e181",
   "metadata": {},
   "source": [
    "#### Users"
   ]
  },
  {
   "cell_type": "code",
   "execution_count": 8,
   "id": "c40c05c5",
   "metadata": {
    "scrolled": true
   },
   "outputs": [
    {
     "data": {
      "text/html": [
       "<div>\n",
       "<style scoped>\n",
       "    .dataframe tbody tr th:only-of-type {\n",
       "        vertical-align: middle;\n",
       "    }\n",
       "\n",
       "    .dataframe tbody tr th {\n",
       "        vertical-align: top;\n",
       "    }\n",
       "\n",
       "    .dataframe thead th {\n",
       "        text-align: right;\n",
       "    }\n",
       "</style>\n",
       "<table border=\"1\" class=\"dataframe\">\n",
       "  <thead>\n",
       "    <tr style=\"text-align: right;\">\n",
       "      <th></th>\n",
       "      <th>User-ID</th>\n",
       "      <th>Location</th>\n",
       "      <th>Age</th>\n",
       "    </tr>\n",
       "  </thead>\n",
       "  <tbody>\n",
       "    <tr>\n",
       "      <th>0</th>\n",
       "      <td>1</td>\n",
       "      <td>nyc, new york, usa</td>\n",
       "      <td>NaN</td>\n",
       "    </tr>\n",
       "    <tr>\n",
       "      <th>1</th>\n",
       "      <td>2</td>\n",
       "      <td>stockton, california, usa</td>\n",
       "      <td>18.0</td>\n",
       "    </tr>\n",
       "    <tr>\n",
       "      <th>2</th>\n",
       "      <td>3</td>\n",
       "      <td>moscow, yukon territory, russia</td>\n",
       "      <td>NaN</td>\n",
       "    </tr>\n",
       "    <tr>\n",
       "      <th>3</th>\n",
       "      <td>4</td>\n",
       "      <td>porto, v.n.gaia, portugal</td>\n",
       "      <td>17.0</td>\n",
       "    </tr>\n",
       "    <tr>\n",
       "      <th>4</th>\n",
       "      <td>5</td>\n",
       "      <td>farnborough, hants, united kingdom</td>\n",
       "      <td>NaN</td>\n",
       "    </tr>\n",
       "  </tbody>\n",
       "</table>\n",
       "</div>"
      ],
      "text/plain": [
       "   User-ID                            Location   Age\n",
       "0        1                  nyc, new york, usa   NaN\n",
       "1        2           stockton, california, usa  18.0\n",
       "2        3     moscow, yukon territory, russia   NaN\n",
       "3        4           porto, v.n.gaia, portugal  17.0\n",
       "4        5  farnborough, hants, united kingdom   NaN"
      ]
     },
     "execution_count": 8,
     "metadata": {},
     "output_type": "execute_result"
    }
   ],
   "source": [
    "users_df.head()"
   ]
  },
  {
   "cell_type": "markdown",
   "id": "6a5db357",
   "metadata": {},
   "source": [
    "#### Top 100 Trending Books"
   ]
  },
  {
   "cell_type": "code",
   "execution_count": 9,
   "id": "b4e483a2",
   "metadata": {},
   "outputs": [
    {
     "data": {
      "text/html": [
       "<div>\n",
       "<style scoped>\n",
       "    .dataframe tbody tr th:only-of-type {\n",
       "        vertical-align: middle;\n",
       "    }\n",
       "\n",
       "    .dataframe tbody tr th {\n",
       "        vertical-align: top;\n",
       "    }\n",
       "\n",
       "    .dataframe thead th {\n",
       "        text-align: right;\n",
       "    }\n",
       "</style>\n",
       "<table border=\"1\" class=\"dataframe\">\n",
       "  <thead>\n",
       "    <tr style=\"text-align: right;\">\n",
       "      <th></th>\n",
       "      <th>Rank</th>\n",
       "      <th>book title</th>\n",
       "      <th>book price</th>\n",
       "      <th>rating</th>\n",
       "      <th>author</th>\n",
       "      <th>year of publication</th>\n",
       "      <th>genre</th>\n",
       "      <th>url</th>\n",
       "    </tr>\n",
       "  </thead>\n",
       "  <tbody>\n",
       "    <tr>\n",
       "      <th>0</th>\n",
       "      <td>1</td>\n",
       "      <td>Iron Flame (The Empyrean, 2)</td>\n",
       "      <td>18.42</td>\n",
       "      <td>4.1</td>\n",
       "      <td>Rebecca Yarros</td>\n",
       "      <td>2023</td>\n",
       "      <td>Fantasy Romance</td>\n",
       "      <td>amazon.com/Iron-Flame-Empyrean-Rebecca-Yarros/...</td>\n",
       "    </tr>\n",
       "    <tr>\n",
       "      <th>1</th>\n",
       "      <td>2</td>\n",
       "      <td>The Woman in Me</td>\n",
       "      <td>20.93</td>\n",
       "      <td>4.5</td>\n",
       "      <td>Britney Spears</td>\n",
       "      <td>2023</td>\n",
       "      <td>Memoir</td>\n",
       "      <td>amazon.com/Woman-Me-Britney-Spears/dp/16680090...</td>\n",
       "    </tr>\n",
       "    <tr>\n",
       "      <th>2</th>\n",
       "      <td>3</td>\n",
       "      <td>My Name Is Barbra</td>\n",
       "      <td>31.50</td>\n",
       "      <td>4.5</td>\n",
       "      <td>Barbra Streisand</td>\n",
       "      <td>2023</td>\n",
       "      <td>Autobiography</td>\n",
       "      <td>amazon.com/My-Name-Barbra-Streisand/dp/0525429...</td>\n",
       "    </tr>\n",
       "    <tr>\n",
       "      <th>3</th>\n",
       "      <td>4</td>\n",
       "      <td>Friends, Lovers, and the Big Terrible Thing: A...</td>\n",
       "      <td>23.99</td>\n",
       "      <td>4.4</td>\n",
       "      <td>Matthew Perry</td>\n",
       "      <td>2023</td>\n",
       "      <td>Memoir</td>\n",
       "      <td>amazon.com/Friends-Lovers-Big-Terrible-Thing/d...</td>\n",
       "    </tr>\n",
       "    <tr>\n",
       "      <th>4</th>\n",
       "      <td>5</td>\n",
       "      <td>How to Catch a Turkey</td>\n",
       "      <td>5.65</td>\n",
       "      <td>4.8</td>\n",
       "      <td>Adam Wallace</td>\n",
       "      <td>2018</td>\n",
       "      <td>Childrens, Fiction</td>\n",
       "      <td>amazon.com/How-Catch-Turkey-Adam-Wallace/dp/14...</td>\n",
       "    </tr>\n",
       "  </tbody>\n",
       "</table>\n",
       "</div>"
      ],
      "text/plain": [
       "   Rank                                         book title  book price  \\\n",
       "0     1                       Iron Flame (The Empyrean, 2)       18.42   \n",
       "1     2                                    The Woman in Me       20.93   \n",
       "2     3                                  My Name Is Barbra       31.50   \n",
       "3     4  Friends, Lovers, and the Big Terrible Thing: A...       23.99   \n",
       "4     5                              How to Catch a Turkey        5.65   \n",
       "\n",
       "   rating            author  year of publication               genre  \\\n",
       "0     4.1    Rebecca Yarros                 2023     Fantasy Romance   \n",
       "1     4.5    Britney Spears                 2023              Memoir   \n",
       "2     4.5  Barbra Streisand                 2023       Autobiography   \n",
       "3     4.4     Matthew Perry                 2023              Memoir   \n",
       "4     4.8      Adam Wallace                 2018  Childrens, Fiction   \n",
       "\n",
       "                                                 url  \n",
       "0  amazon.com/Iron-Flame-Empyrean-Rebecca-Yarros/...  \n",
       "1  amazon.com/Woman-Me-Britney-Spears/dp/16680090...  \n",
       "2  amazon.com/My-Name-Barbra-Streisand/dp/0525429...  \n",
       "3  amazon.com/Friends-Lovers-Big-Terrible-Thing/d...  \n",
       "4  amazon.com/How-Catch-Turkey-Adam-Wallace/dp/14...  "
      ]
     },
     "execution_count": 9,
     "metadata": {},
     "output_type": "execute_result"
    }
   ],
   "source": [
    "top100_df.head()"
   ]
  },
  {
   "cell_type": "markdown",
   "id": "70374b7d",
   "metadata": {},
   "source": [
    "#### Customers"
   ]
  },
  {
   "cell_type": "code",
   "execution_count": 10,
   "id": "7b220803",
   "metadata": {},
   "outputs": [
    {
     "data": {
      "text/html": [
       "<div>\n",
       "<style scoped>\n",
       "    .dataframe tbody tr th:only-of-type {\n",
       "        vertical-align: middle;\n",
       "    }\n",
       "\n",
       "    .dataframe tbody tr th {\n",
       "        vertical-align: top;\n",
       "    }\n",
       "\n",
       "    .dataframe thead th {\n",
       "        text-align: right;\n",
       "    }\n",
       "</style>\n",
       "<table border=\"1\" class=\"dataframe\">\n",
       "  <thead>\n",
       "    <tr style=\"text-align: right;\">\n",
       "      <th></th>\n",
       "      <th>Sno</th>\n",
       "      <th>book name</th>\n",
       "      <th>review title</th>\n",
       "      <th>reviewer</th>\n",
       "      <th>reviewer rating</th>\n",
       "      <th>review description</th>\n",
       "      <th>is_verified</th>\n",
       "      <th>date</th>\n",
       "      <th>timestamp</th>\n",
       "      <th>ASIN</th>\n",
       "    </tr>\n",
       "  </thead>\n",
       "  <tbody>\n",
       "    <tr>\n",
       "      <th>0</th>\n",
       "      <td>0</td>\n",
       "      <td>The Woman in Me</td>\n",
       "      <td>Unbelievably impressive. Her torn life on paper.</td>\n",
       "      <td>Murderess Marbie</td>\n",
       "      <td>4</td>\n",
       "      <td>I'm only a third way in. Shipped lightening fa...</td>\n",
       "      <td>True</td>\n",
       "      <td>26-10-2023</td>\n",
       "      <td>Reviewed in the United States October 26, 2023</td>\n",
       "      <td>1668009048</td>\n",
       "    </tr>\n",
       "    <tr>\n",
       "      <th>1</th>\n",
       "      <td>1</td>\n",
       "      <td>The Woman in Me</td>\n",
       "      <td>What a heartbreaking story</td>\n",
       "      <td>L J</td>\n",
       "      <td>5</td>\n",
       "      <td>\"There have been so many times when I was scar...</td>\n",
       "      <td>True</td>\n",
       "      <td>06-11-2023</td>\n",
       "      <td>Reviewed in the United States November 6, 2023</td>\n",
       "      <td>1668009048</td>\n",
       "    </tr>\n",
       "    <tr>\n",
       "      <th>2</th>\n",
       "      <td>2</td>\n",
       "      <td>The Woman in Me</td>\n",
       "      <td>Britney you are so invincible! You are an insp...</td>\n",
       "      <td>Jamie</td>\n",
       "      <td>5</td>\n",
       "      <td>The media could not be loaded. I personally ha...</td>\n",
       "      <td>True</td>\n",
       "      <td>01-11-2023</td>\n",
       "      <td>Reviewed in the United States November 1, 2023</td>\n",
       "      <td>1668009048</td>\n",
       "    </tr>\n",
       "    <tr>\n",
       "      <th>3</th>\n",
       "      <td>3</td>\n",
       "      <td>The Woman in Me</td>\n",
       "      <td>Fast Read, Sad Story</td>\n",
       "      <td>KMG</td>\n",
       "      <td>5</td>\n",
       "      <td>I have been a fan of Britney's music since the...</td>\n",
       "      <td>True</td>\n",
       "      <td>25-10-2023</td>\n",
       "      <td>Reviewed in the United States October 25, 2023</td>\n",
       "      <td>1668009048</td>\n",
       "    </tr>\n",
       "    <tr>\n",
       "      <th>4</th>\n",
       "      <td>4</td>\n",
       "      <td>The Woman in Me</td>\n",
       "      <td>Buy it, it’s worth the read!</td>\n",
       "      <td>Stephanie Brown</td>\n",
       "      <td>5</td>\n",
       "      <td>Whether or not you’re a fan, it’s a great read...</td>\n",
       "      <td>True</td>\n",
       "      <td>01-11-2023</td>\n",
       "      <td>Reviewed in the United States November 1, 2023</td>\n",
       "      <td>1668009048</td>\n",
       "    </tr>\n",
       "  </tbody>\n",
       "</table>\n",
       "</div>"
      ],
      "text/plain": [
       "   Sno        book name                                       review title  \\\n",
       "0    0  The Woman in Me   Unbelievably impressive. Her torn life on paper.   \n",
       "1    1  The Woman in Me                         What a heartbreaking story   \n",
       "2    2  The Woman in Me  Britney you are so invincible! You are an insp...   \n",
       "3    3  The Woman in Me                               Fast Read, Sad Story   \n",
       "4    4  The Woman in Me                       Buy it, it’s worth the read!   \n",
       "\n",
       "           reviewer  reviewer rating  \\\n",
       "0  Murderess Marbie                4   \n",
       "1               L J                5   \n",
       "2             Jamie                5   \n",
       "3               KMG                5   \n",
       "4   Stephanie Brown                5   \n",
       "\n",
       "                                  review description  is_verified        date  \\\n",
       "0  I'm only a third way in. Shipped lightening fa...         True  26-10-2023   \n",
       "1  \"There have been so many times when I was scar...         True  06-11-2023   \n",
       "2  The media could not be loaded. I personally ha...         True  01-11-2023   \n",
       "3  I have been a fan of Britney's music since the...         True  25-10-2023   \n",
       "4  Whether or not you’re a fan, it’s a great read...         True  01-11-2023   \n",
       "\n",
       "                                        timestamp        ASIN  \n",
       "0  Reviewed in the United States October 26, 2023  1668009048  \n",
       "1  Reviewed in the United States November 6, 2023  1668009048  \n",
       "2  Reviewed in the United States November 1, 2023  1668009048  \n",
       "3  Reviewed in the United States October 25, 2023  1668009048  \n",
       "4  Reviewed in the United States November 1, 2023  1668009048  "
      ]
     },
     "execution_count": 10,
     "metadata": {},
     "output_type": "execute_result"
    }
   ],
   "source": [
    "customers_df.head()"
   ]
  },
  {
   "cell_type": "markdown",
   "id": "03b5b5da",
   "metadata": {},
   "source": [
    "#### Goodreads - Web Scrapped"
   ]
  },
  {
   "cell_type": "code",
   "execution_count": 11,
   "id": "c4c26c0c",
   "metadata": {},
   "outputs": [
    {
     "data": {
      "text/html": [
       "<div>\n",
       "<style scoped>\n",
       "    .dataframe tbody tr th:only-of-type {\n",
       "        vertical-align: middle;\n",
       "    }\n",
       "\n",
       "    .dataframe tbody tr th {\n",
       "        vertical-align: top;\n",
       "    }\n",
       "\n",
       "    .dataframe thead th {\n",
       "        text-align: right;\n",
       "    }\n",
       "</style>\n",
       "<table border=\"1\" class=\"dataframe\">\n",
       "  <thead>\n",
       "    <tr style=\"text-align: right;\">\n",
       "      <th></th>\n",
       "      <th>Title</th>\n",
       "      <th>Author</th>\n",
       "      <th>Image URL</th>\n",
       "      <th>Rating</th>\n",
       "    </tr>\n",
       "  </thead>\n",
       "  <tbody>\n",
       "    <tr>\n",
       "      <th>0</th>\n",
       "      <td>Fourth Wing (The Empyrean, #1)</td>\n",
       "      <td>Rebecca Yarros</td>\n",
       "      <td>https://i.gr-assets.com/images/S/compressed.ph...</td>\n",
       "      <td>4.63 avg rating — 858,170 ratings</td>\n",
       "    </tr>\n",
       "    <tr>\n",
       "      <th>1</th>\n",
       "      <td>Happy Place</td>\n",
       "      <td>Emily Henry</td>\n",
       "      <td>https://i.gr-assets.com/images/S/compressed.ph...</td>\n",
       "      <td>4.06 avg rating — 578,174 ratings</td>\n",
       "    </tr>\n",
       "    <tr>\n",
       "      <th>2</th>\n",
       "      <td>Yellowface</td>\n",
       "      <td>R.F. Kuang</td>\n",
       "      <td>https://i.gr-assets.com/images/S/compressed.ph...</td>\n",
       "      <td>3.87 avg rating — 230,939 ratings</td>\n",
       "    </tr>\n",
       "    <tr>\n",
       "      <th>3</th>\n",
       "      <td>Love, Theoretically</td>\n",
       "      <td>Ali Hazelwood</td>\n",
       "      <td>https://i.gr-assets.com/images/S/compressed.ph...</td>\n",
       "      <td>4.16 avg rating — 242,107 ratings</td>\n",
       "    </tr>\n",
       "    <tr>\n",
       "      <th>4</th>\n",
       "      <td>Divine Rivals (Letters of Enchantment, #1)</td>\n",
       "      <td>Rebecca   Ross</td>\n",
       "      <td>https://i.gr-assets.com/images/S/compressed.ph...</td>\n",
       "      <td>4.26 avg rating — 164,652 ratings</td>\n",
       "    </tr>\n",
       "  </tbody>\n",
       "</table>\n",
       "</div>"
      ],
      "text/plain": [
       "                                        Title          Author  \\\n",
       "0              Fourth Wing (The Empyrean, #1)  Rebecca Yarros   \n",
       "1                                 Happy Place     Emily Henry   \n",
       "2                                  Yellowface      R.F. Kuang   \n",
       "3                         Love, Theoretically   Ali Hazelwood   \n",
       "4  Divine Rivals (Letters of Enchantment, #1)  Rebecca   Ross   \n",
       "\n",
       "                                           Image URL  \\\n",
       "0  https://i.gr-assets.com/images/S/compressed.ph...   \n",
       "1  https://i.gr-assets.com/images/S/compressed.ph...   \n",
       "2  https://i.gr-assets.com/images/S/compressed.ph...   \n",
       "3  https://i.gr-assets.com/images/S/compressed.ph...   \n",
       "4  https://i.gr-assets.com/images/S/compressed.ph...   \n",
       "\n",
       "                              Rating  \n",
       "0  4.63 avg rating — 858,170 ratings  \n",
       "1  4.06 avg rating — 578,174 ratings  \n",
       "2  3.87 avg rating — 230,939 ratings  \n",
       "3  4.16 avg rating — 242,107 ratings  \n",
       "4  4.26 avg rating — 164,652 ratings  "
      ]
     },
     "execution_count": 11,
     "metadata": {},
     "output_type": "execute_result"
    }
   ],
   "source": [
    "goodreads_df.head()"
   ]
  },
  {
   "cell_type": "code",
   "execution_count": 12,
   "id": "b5f58f11",
   "metadata": {},
   "outputs": [
    {
     "data": {
      "text/html": [
       "<div style='display:flex;'><img src='https://i.gr-assets.com/images/S/compressed.photo.goodreads.com/books/1701980900i/61431922._SY75_.jpg' style='margin: 5px;'><img src='https://i.gr-assets.com/images/S/compressed.photo.goodreads.com/books/1660145160i/61718053._SY75_.jpg' style='margin: 5px;'><img src='https://i.gr-assets.com/images/S/compressed.photo.goodreads.com/books/1687082673i/59357120._SY75_.jpg' style='margin: 5px;'><img src='https://i.gr-assets.com/images/S/compressed.photo.goodreads.com/books/1681476644i/61326735._SY75_.jpg' style='margin: 5px;'><img src='https://i.gr-assets.com/images/S/compressed.photo.goodreads.com/books/1655928079i/60784546._SY75_.jpg' style='margin: 5px;'><img src='https://i.gr-assets.com/images/S/compressed.photo.goodreads.com/books/1654625328i/61198133._SY75_.jpg' style='margin: 5px;'><img src='https://i.gr-assets.com/images/S/compressed.photo.goodreads.com/books/1687463048i/90202302._SY75_.jpg' style='margin: 5px;'><img src='https://i.gr-assets.com/images/S/compressed.photo.goodreads.com/books/1674501506i/62816044._SY75_.jpg' style='margin: 5px;'><img src='https://i.gr-assets.com/images/S/compressed.photo.goodreads.com/books/1672574587i/60531406._SY75_.jpg' style='margin: 5px;'><img src='https://i.gr-assets.com/images/S/compressed.photo.goodreads.com/books/1651622856i/60657589._SY75_.jpg' style='margin: 5px;'></div>"
      ],
      "text/plain": [
       "<IPython.core.display.HTML object>"
      ]
     },
     "execution_count": 12,
     "metadata": {},
     "output_type": "execute_result"
    }
   ],
   "source": [
    "# Check 10 first images just to make sure that it works\n",
    "\n",
    "# Create an HTML string to display images side by side\n",
    "num_images_to_display = 10\n",
    "image_html = \"<div style='display:flex;'>\"\n",
    "\n",
    "# Iterate through the 'Image URL' column and display the first 10 images\n",
    "for i, url in enumerate(goodreads_df['Image URL']):\n",
    "    if i >= num_images_to_display:\n",
    "        break  # Stop after displaying the first 10 images\n",
    "    image_html += f\"<img src='{url}' style='margin: 5px;'>\"\n",
    "\n",
    "image_html += \"</div>\"\n",
    "\n",
    "# Display the HTML string\n",
    "HTML(image_html)"
   ]
  },
  {
   "cell_type": "markdown",
   "id": "843c1568",
   "metadata": {},
   "source": [
    "#### Goodreads"
   ]
  },
  {
   "cell_type": "code",
   "execution_count": 13,
   "id": "439a891e",
   "metadata": {},
   "outputs": [
    {
     "data": {
      "text/html": [
       "<div>\n",
       "<style scoped>\n",
       "    .dataframe tbody tr th:only-of-type {\n",
       "        vertical-align: middle;\n",
       "    }\n",
       "\n",
       "    .dataframe tbody tr th {\n",
       "        vertical-align: top;\n",
       "    }\n",
       "\n",
       "    .dataframe thead th {\n",
       "        text-align: right;\n",
       "    }\n",
       "</style>\n",
       "<table border=\"1\" class=\"dataframe\">\n",
       "  <thead>\n",
       "    <tr style=\"text-align: right;\">\n",
       "      <th></th>\n",
       "      <th>bookID</th>\n",
       "      <th>title</th>\n",
       "      <th>authors</th>\n",
       "      <th>average_rating</th>\n",
       "      <th>isbn</th>\n",
       "      <th>isbn13</th>\n",
       "      <th>language_code</th>\n",
       "      <th>num_pages</th>\n",
       "      <th>ratings_count</th>\n",
       "      <th>text_reviews_count</th>\n",
       "      <th>publication_date</th>\n",
       "      <th>publisher</th>\n",
       "    </tr>\n",
       "  </thead>\n",
       "  <tbody>\n",
       "    <tr>\n",
       "      <th>0</th>\n",
       "      <td>1</td>\n",
       "      <td>Harry Potter and the Half-Blood Prince (Harry ...</td>\n",
       "      <td>J.K. Rowling/Mary GrandPré</td>\n",
       "      <td>4.57</td>\n",
       "      <td>0439785960</td>\n",
       "      <td>9780439785969</td>\n",
       "      <td>eng</td>\n",
       "      <td>652</td>\n",
       "      <td>2095690</td>\n",
       "      <td>27591</td>\n",
       "      <td>9/16/2006</td>\n",
       "      <td>Scholastic Inc.</td>\n",
       "    </tr>\n",
       "    <tr>\n",
       "      <th>1</th>\n",
       "      <td>2</td>\n",
       "      <td>Harry Potter and the Order of the Phoenix (Har...</td>\n",
       "      <td>J.K. Rowling/Mary GrandPré</td>\n",
       "      <td>4.49</td>\n",
       "      <td>0439358078</td>\n",
       "      <td>9780439358071</td>\n",
       "      <td>eng</td>\n",
       "      <td>870</td>\n",
       "      <td>2153167</td>\n",
       "      <td>29221</td>\n",
       "      <td>9/1/2004</td>\n",
       "      <td>Scholastic Inc.</td>\n",
       "    </tr>\n",
       "    <tr>\n",
       "      <th>2</th>\n",
       "      <td>4</td>\n",
       "      <td>Harry Potter and the Chamber of Secrets (Harry...</td>\n",
       "      <td>J.K. Rowling</td>\n",
       "      <td>4.42</td>\n",
       "      <td>0439554896</td>\n",
       "      <td>9780439554893</td>\n",
       "      <td>eng</td>\n",
       "      <td>352</td>\n",
       "      <td>6333</td>\n",
       "      <td>244</td>\n",
       "      <td>11/1/2003</td>\n",
       "      <td>Scholastic</td>\n",
       "    </tr>\n",
       "    <tr>\n",
       "      <th>3</th>\n",
       "      <td>5</td>\n",
       "      <td>Harry Potter and the Prisoner of Azkaban (Harr...</td>\n",
       "      <td>J.K. Rowling/Mary GrandPré</td>\n",
       "      <td>4.56</td>\n",
       "      <td>043965548X</td>\n",
       "      <td>9780439655484</td>\n",
       "      <td>eng</td>\n",
       "      <td>435</td>\n",
       "      <td>2339585</td>\n",
       "      <td>36325</td>\n",
       "      <td>5/1/2004</td>\n",
       "      <td>Scholastic Inc.</td>\n",
       "    </tr>\n",
       "    <tr>\n",
       "      <th>4</th>\n",
       "      <td>8</td>\n",
       "      <td>Harry Potter Boxed Set  Books 1-5 (Harry Potte...</td>\n",
       "      <td>J.K. Rowling/Mary GrandPré</td>\n",
       "      <td>4.78</td>\n",
       "      <td>0439682584</td>\n",
       "      <td>9780439682589</td>\n",
       "      <td>eng</td>\n",
       "      <td>2690</td>\n",
       "      <td>41428</td>\n",
       "      <td>164</td>\n",
       "      <td>9/13/2004</td>\n",
       "      <td>Scholastic</td>\n",
       "    </tr>\n",
       "  </tbody>\n",
       "</table>\n",
       "</div>"
      ],
      "text/plain": [
       "   bookID                                              title  \\\n",
       "0       1  Harry Potter and the Half-Blood Prince (Harry ...   \n",
       "1       2  Harry Potter and the Order of the Phoenix (Har...   \n",
       "2       4  Harry Potter and the Chamber of Secrets (Harry...   \n",
       "3       5  Harry Potter and the Prisoner of Azkaban (Harr...   \n",
       "4       8  Harry Potter Boxed Set  Books 1-5 (Harry Potte...   \n",
       "\n",
       "                      authors  average_rating        isbn         isbn13  \\\n",
       "0  J.K. Rowling/Mary GrandPré            4.57  0439785960  9780439785969   \n",
       "1  J.K. Rowling/Mary GrandPré            4.49  0439358078  9780439358071   \n",
       "2                J.K. Rowling            4.42  0439554896  9780439554893   \n",
       "3  J.K. Rowling/Mary GrandPré            4.56  043965548X  9780439655484   \n",
       "4  J.K. Rowling/Mary GrandPré            4.78  0439682584  9780439682589   \n",
       "\n",
       "  language_code    num_pages  ratings_count  text_reviews_count  \\\n",
       "0           eng          652        2095690               27591   \n",
       "1           eng          870        2153167               29221   \n",
       "2           eng          352           6333                 244   \n",
       "3           eng          435        2339585               36325   \n",
       "4           eng         2690          41428                 164   \n",
       "\n",
       "  publication_date        publisher  \n",
       "0        9/16/2006  Scholastic Inc.  \n",
       "1         9/1/2004  Scholastic Inc.  \n",
       "2        11/1/2003       Scholastic  \n",
       "3         5/1/2004  Scholastic Inc.  \n",
       "4        9/13/2004       Scholastic  "
      ]
     },
     "execution_count": 13,
     "metadata": {},
     "output_type": "execute_result"
    }
   ],
   "source": [
    "gr_books_df.head()"
   ]
  },
  {
   "cell_type": "markdown",
   "id": "17a64c2a",
   "metadata": {},
   "source": [
    "### Shape"
   ]
  },
  {
   "cell_type": "code",
   "execution_count": 14,
   "id": "196f9255",
   "metadata": {},
   "outputs": [
    {
     "name": "stdout",
     "output_type": "stream",
     "text": [
      "Books Shape:  (100000, 13)\n",
      "Books 2 Shape:  (271360, 8)\n",
      "Ratings Shape:  (1149780, 3)\n",
      "Users Shape:  (278858, 3)\n",
      "Top 100 Shape:  (100, 8)\n",
      "Customers Shape:  (920, 10)\n",
      "Goodreads Shape:  (100, 4)\n",
      "Goodreads 2 Shape:  (11123, 12)\n"
     ]
    }
   ],
   "source": [
    "print(\"Books Shape: \" ,books_df.shape )\n",
    "print(\"Books 2 Shape: \" ,books_df_2.shape )\n",
    "print(\"Ratings Shape: \" ,ratings_df.shape )\n",
    "print(\"Users Shape: \" ,users_df.shape )\n",
    "print(\"Top 100 Shape: \" ,top100_df.shape )\n",
    "print(\"Customers Shape: \" ,customers_df.shape )\n",
    "print(\"Goodreads Shape: \" ,goodreads_df.shape )\n",
    "print(\"Goodreads 2 Shape: \" ,gr_books_df.shape )"
   ]
  },
  {
   "cell_type": "markdown",
   "id": "af63f3b8",
   "metadata": {},
   "source": [
    "To find the total number of rows, I simply sum the number of rows in each dataset:\n",
    "\n",
    "Total Rows = 100,000 + 271,360 + 1,149,780 + 278,858 + 100 + 920 + 100 + 11,123 = 1,812,241 rows\n",
    "\n",
    "So, the **total number of rows across all the datasets is 1,812,241 rows**.\n",
    "\n",
    "It seems that we have aprox. 1M books. (I have to check for duplicates to know how many different books I have)."
   ]
  },
  {
   "cell_type": "markdown",
   "id": "dbed1158",
   "metadata": {},
   "source": [
    "## Check data types and look for missing values"
   ]
  },
  {
   "cell_type": "markdown",
   "id": "b076a157",
   "metadata": {},
   "source": [
    "#### Books"
   ]
  },
  {
   "cell_type": "code",
   "execution_count": 15,
   "id": "c3fbb8c4",
   "metadata": {},
   "outputs": [
    {
     "name": "stdout",
     "output_type": "stream",
     "text": [
      "<class 'pandas.core.frame.DataFrame'>\n",
      "RangeIndex: 100000 entries, 0 to 99999\n",
      "Data columns (total 13 columns):\n",
      " #   Column        Non-Null Count   Dtype  \n",
      "---  ------        --------------   -----  \n",
      " 0   author        100000 non-null  object \n",
      " 1   bookformat    96772 non-null   object \n",
      " 2   desc          93228 non-null   object \n",
      " 3   genre         89533 non-null   object \n",
      " 4   img           96955 non-null   object \n",
      " 5   isbn          85518 non-null   object \n",
      " 6   isbn13        88565 non-null   object \n",
      " 7   link          100000 non-null  object \n",
      " 8   pages         100000 non-null  int64  \n",
      " 9   rating        100000 non-null  float64\n",
      " 10  reviews       100000 non-null  int64  \n",
      " 11  title         99999 non-null   object \n",
      " 12  totalratings  100000 non-null  int64  \n",
      "dtypes: float64(1), int64(3), object(9)\n",
      "memory usage: 9.9+ MB\n"
     ]
    }
   ],
   "source": [
    "books_df.info()"
   ]
  },
  {
   "cell_type": "markdown",
   "id": "8f87a08a",
   "metadata": {},
   "source": [
    "Data types seem correct. "
   ]
  },
  {
   "cell_type": "markdown",
   "id": "52da1de3",
   "metadata": {},
   "source": [
    "#### Ratings"
   ]
  },
  {
   "cell_type": "code",
   "execution_count": 16,
   "id": "a2ed3fa4",
   "metadata": {},
   "outputs": [
    {
     "name": "stdout",
     "output_type": "stream",
     "text": [
      "<class 'pandas.core.frame.DataFrame'>\n",
      "RangeIndex: 1149780 entries, 0 to 1149779\n",
      "Data columns (total 3 columns):\n",
      " #   Column       Non-Null Count    Dtype \n",
      "---  ------       --------------    ----- \n",
      " 0   User-ID      1149780 non-null  int64 \n",
      " 1   ISBN         1149780 non-null  object\n",
      " 2   Book-Rating  1149780 non-null  int64 \n",
      "dtypes: int64(2), object(1)\n",
      "memory usage: 26.3+ MB\n"
     ]
    }
   ],
   "source": [
    "ratings_df.info()"
   ]
  },
  {
   "cell_type": "markdown",
   "id": "93693ac0",
   "metadata": {},
   "source": [
    "Data types seem correct."
   ]
  },
  {
   "cell_type": "markdown",
   "id": "fb3bfda6",
   "metadata": {},
   "source": [
    "#### Books 2"
   ]
  },
  {
   "cell_type": "code",
   "execution_count": 17,
   "id": "3de7f80d",
   "metadata": {},
   "outputs": [
    {
     "name": "stdout",
     "output_type": "stream",
     "text": [
      "<class 'pandas.core.frame.DataFrame'>\n",
      "RangeIndex: 271360 entries, 0 to 271359\n",
      "Data columns (total 8 columns):\n",
      " #   Column               Non-Null Count   Dtype \n",
      "---  ------               --------------   ----- \n",
      " 0   ISBN                 271360 non-null  object\n",
      " 1   Book-Title           271360 non-null  object\n",
      " 2   Book-Author          271359 non-null  object\n",
      " 3   Year-Of-Publication  271360 non-null  object\n",
      " 4   Publisher            271358 non-null  object\n",
      " 5   Image-URL-S          271360 non-null  object\n",
      " 6   Image-URL-M          271360 non-null  object\n",
      " 7   Image-URL-L          271357 non-null  object\n",
      "dtypes: object(8)\n",
      "memory usage: 16.6+ MB\n"
     ]
    }
   ],
   "source": [
    "books_df_2.info()"
   ]
  },
  {
   "cell_type": "markdown",
   "id": "bc38b078",
   "metadata": {},
   "source": [
    "Year of publication must be date type."
   ]
  },
  {
   "cell_type": "markdown",
   "id": "5b6f5b2b",
   "metadata": {},
   "source": [
    "#### Users"
   ]
  },
  {
   "cell_type": "code",
   "execution_count": 18,
   "id": "e0e51654",
   "metadata": {},
   "outputs": [
    {
     "name": "stdout",
     "output_type": "stream",
     "text": [
      "<class 'pandas.core.frame.DataFrame'>\n",
      "RangeIndex: 278858 entries, 0 to 278857\n",
      "Data columns (total 3 columns):\n",
      " #   Column    Non-Null Count   Dtype  \n",
      "---  ------    --------------   -----  \n",
      " 0   User-ID   278858 non-null  int64  \n",
      " 1   Location  278858 non-null  object \n",
      " 2   Age       168096 non-null  float64\n",
      "dtypes: float64(1), int64(1), object(1)\n",
      "memory usage: 6.4+ MB\n"
     ]
    }
   ],
   "source": [
    "users_df.info()"
   ]
  },
  {
   "cell_type": "markdown",
   "id": "5b5d3f48",
   "metadata": {},
   "source": [
    "Data types seem correct."
   ]
  },
  {
   "cell_type": "markdown",
   "id": "da3234c0",
   "metadata": {},
   "source": [
    "#### Top 100"
   ]
  },
  {
   "cell_type": "code",
   "execution_count": 19,
   "id": "b54787b8",
   "metadata": {
    "scrolled": true
   },
   "outputs": [
    {
     "name": "stdout",
     "output_type": "stream",
     "text": [
      "<class 'pandas.core.frame.DataFrame'>\n",
      "RangeIndex: 100 entries, 0 to 99\n",
      "Data columns (total 8 columns):\n",
      " #   Column               Non-Null Count  Dtype  \n",
      "---  ------               --------------  -----  \n",
      " 0   Rank                 100 non-null    int64  \n",
      " 1   book title           100 non-null    object \n",
      " 2   book price           100 non-null    float64\n",
      " 3   rating               97 non-null     float64\n",
      " 4   author               100 non-null    object \n",
      " 5   year of publication  100 non-null    int64  \n",
      " 6   genre                100 non-null    object \n",
      " 7   url                  100 non-null    object \n",
      "dtypes: float64(2), int64(2), object(4)\n",
      "memory usage: 6.4+ KB\n"
     ]
    }
   ],
   "source": [
    "top100_df.info()"
   ]
  },
  {
   "cell_type": "markdown",
   "id": "d83981fc",
   "metadata": {},
   "source": [
    "Year of publication must be date type."
   ]
  },
  {
   "cell_type": "markdown",
   "id": "b02dc876",
   "metadata": {},
   "source": [
    "#### Customers"
   ]
  },
  {
   "cell_type": "code",
   "execution_count": 20,
   "id": "2633e802",
   "metadata": {},
   "outputs": [
    {
     "name": "stdout",
     "output_type": "stream",
     "text": [
      "<class 'pandas.core.frame.DataFrame'>\n",
      "RangeIndex: 920 entries, 0 to 919\n",
      "Data columns (total 10 columns):\n",
      " #   Column              Non-Null Count  Dtype \n",
      "---  ------              --------------  ----- \n",
      " 0   Sno                 920 non-null    int64 \n",
      " 1   book name           920 non-null    object\n",
      " 2   review title        920 non-null    object\n",
      " 3   reviewer            920 non-null    object\n",
      " 4   reviewer rating     920 non-null    int64 \n",
      " 5   review description  920 non-null    object\n",
      " 6   is_verified         920 non-null    bool  \n",
      " 7   date                920 non-null    object\n",
      " 8   timestamp           920 non-null    object\n",
      " 9   ASIN                920 non-null    object\n",
      "dtypes: bool(1), int64(2), object(7)\n",
      "memory usage: 65.7+ KB\n"
     ]
    }
   ],
   "source": [
    "customers_df.info()"
   ]
  },
  {
   "cell_type": "markdown",
   "id": "a1a6684c",
   "metadata": {},
   "source": [
    "Date and timestamp must be date type."
   ]
  },
  {
   "cell_type": "markdown",
   "id": "b0645762",
   "metadata": {},
   "source": [
    "#### Goodreads"
   ]
  },
  {
   "cell_type": "code",
   "execution_count": 21,
   "id": "4e3ada42",
   "metadata": {},
   "outputs": [
    {
     "name": "stdout",
     "output_type": "stream",
     "text": [
      "<class 'pandas.core.frame.DataFrame'>\n",
      "RangeIndex: 100 entries, 0 to 99\n",
      "Data columns (total 4 columns):\n",
      " #   Column     Non-Null Count  Dtype \n",
      "---  ------     --------------  ----- \n",
      " 0   Title      100 non-null    object\n",
      " 1   Author     100 non-null    object\n",
      " 2   Image URL  100 non-null    object\n",
      " 3   Rating     100 non-null    object\n",
      "dtypes: object(4)\n",
      "memory usage: 3.2+ KB\n"
     ]
    }
   ],
   "source": [
    "goodreads_df.info()"
   ]
  },
  {
   "cell_type": "markdown",
   "id": "08cd15b5",
   "metadata": {},
   "source": [
    "Rating must be float or int."
   ]
  },
  {
   "cell_type": "markdown",
   "id": "db5a285a",
   "metadata": {},
   "source": [
    "#### Goodreads 2"
   ]
  },
  {
   "cell_type": "code",
   "execution_count": 22,
   "id": "e248d10c",
   "metadata": {},
   "outputs": [
    {
     "name": "stdout",
     "output_type": "stream",
     "text": [
      "<class 'pandas.core.frame.DataFrame'>\n",
      "RangeIndex: 11123 entries, 0 to 11122\n",
      "Data columns (total 12 columns):\n",
      " #   Column              Non-Null Count  Dtype  \n",
      "---  ------              --------------  -----  \n",
      " 0   bookID              11123 non-null  int64  \n",
      " 1   title               11123 non-null  object \n",
      " 2   authors             11123 non-null  object \n",
      " 3   average_rating      11123 non-null  float64\n",
      " 4   isbn                11123 non-null  object \n",
      " 5   isbn13              11123 non-null  int64  \n",
      " 6   language_code       11123 non-null  object \n",
      " 7     num_pages         11123 non-null  int64  \n",
      " 8   ratings_count       11123 non-null  int64  \n",
      " 9   text_reviews_count  11123 non-null  int64  \n",
      " 10  publication_date    11123 non-null  object \n",
      " 11  publisher           11123 non-null  object \n",
      "dtypes: float64(1), int64(5), object(6)\n",
      "memory usage: 1.0+ MB\n"
     ]
    }
   ],
   "source": [
    "gr_books_df.info()"
   ]
  },
  {
   "cell_type": "markdown",
   "id": "e30f31b4",
   "metadata": {},
   "source": [
    "Publication date must be date type."
   ]
  },
  {
   "cell_type": "markdown",
   "id": "9af2913b",
   "metadata": {},
   "source": [
    "### Missing Values"
   ]
  },
  {
   "cell_type": "code",
   "execution_count": 23,
   "id": "232e47c1",
   "metadata": {},
   "outputs": [
    {
     "name": "stdout",
     "output_type": "stream",
     "text": [
      "Null values in Books:\n",
      " author              0\n",
      "bookformat       3228\n",
      "desc             6772\n",
      "genre           10467\n",
      "img              3045\n",
      "isbn            14482\n",
      "isbn13          11435\n",
      "link                0\n",
      "pages               0\n",
      "rating              0\n",
      "reviews             0\n",
      "title               1\n",
      "totalratings        0\n",
      "dtype: int64\n",
      " \n",
      "Null values in Books 2:\n",
      " ISBN                   0\n",
      "Book-Title             0\n",
      "Book-Author            1\n",
      "Year-Of-Publication    0\n",
      "Publisher              2\n",
      "Image-URL-S            0\n",
      "Image-URL-M            0\n",
      "Image-URL-L            3\n",
      "dtype: int64\n",
      " \n",
      "Null values in Ratings:\n",
      "  User-ID        0\n",
      "ISBN           0\n",
      "Book-Rating    0\n",
      "dtype: int64\n",
      " \n",
      "Null values in Users:\n",
      " User-ID          0\n",
      "Location         0\n",
      "Age         110762\n",
      "dtype: int64\n",
      " \n",
      "Null values in top100:\n",
      " Rank                   0\n",
      "book title             0\n",
      "book price             0\n",
      "rating                 3\n",
      "author                 0\n",
      "year of publication    0\n",
      "genre                  0\n",
      "url                    0\n",
      "dtype: int64\n",
      " \n",
      "Null values in Customers:\n",
      " Sno                   0\n",
      "book name             0\n",
      "review title          0\n",
      "reviewer              0\n",
      "reviewer rating       0\n",
      "review description    0\n",
      "is_verified           0\n",
      "date                  0\n",
      "timestamp             0\n",
      "ASIN                  0\n",
      "dtype: int64\n",
      " \n",
      "Null values in Goodreads:\n",
      " Title        0\n",
      "Author       0\n",
      "Image URL    0\n",
      "Rating       0\n",
      "dtype: int64\n",
      " \n",
      "Null values in Goodreads 2:\n",
      " bookID                0\n",
      "title                 0\n",
      "authors               0\n",
      "average_rating        0\n",
      "isbn                  0\n",
      "isbn13                0\n",
      "language_code         0\n",
      "  num_pages           0\n",
      "ratings_count         0\n",
      "text_reviews_count    0\n",
      "publication_date      0\n",
      "publisher             0\n",
      "dtype: int64\n"
     ]
    }
   ],
   "source": [
    "print(\"Null values in Books:\\n\" ,books_df.isnull().sum())\n",
    "print(\" \")\n",
    "print(\"Null values in Books 2:\\n\" ,books_df_2.isnull().sum())\n",
    "print(\" \")\n",
    "print(\"Null values in Ratings:\\n \",ratings_df.isnull().sum())\n",
    "print(\" \")\n",
    "print(\"Null values in Users:\\n\",users_df.isnull().sum())\n",
    "print(\" \")\n",
    "print(\"Null values in top100:\\n\" ,top100_df.isnull().sum())\n",
    "print(\" \")\n",
    "print(\"Null values in Customers:\\n\" ,customers_df.isnull().sum())\n",
    "print(\" \")\n",
    "print(\"Null values in Goodreads:\\n\" ,goodreads_df.isnull().sum())\n",
    "print(\" \")\n",
    "print(\"Null values in Goodreads 2:\\n\" ,gr_books_df.isnull().sum())"
   ]
  },
  {
   "cell_type": "markdown",
   "id": "76d0cf75",
   "metadata": {},
   "source": [
    "This output provides a summary of the number of missing values in each column for the respective datasets. It's helpful for data quality assessment and this data cleaning tasks.\n",
    "\n",
    "As we see, we have some datasets with missing values in some of their columns.\n",
    "\n",
    "#### Here's a summary of the datasets and respective columns with missing values, along with potential ways to handle them:\n",
    "\n",
    "**Dataset: Books**\n",
    "- Columns with missing values: `bookformat`, `desc`, `genre`, `img`, `isbn`, `isbn13`, `title`\n",
    "- Possible treatments:\n",
    "  - For columns `bookformat`, `desc`, `genre`, `img`, `isbn`, `isbn13`, I will decide whether these missing values are critical for my analysis. If not critical, I can leave them as they are or consider deleting the corresponding rows.\n",
    "  - For the `title` column, as it's important and there's only one missing value, I could try manually searching for the missing title and replacing it.\n",
    "\n",
    "**Dataset: Books 2**\n",
    "- Columns with missing values: `Book-Author`, `Publisher`, `Image-URL-L`\n",
    "- Possible treatments:\n",
    "  - For the `Book-Author` column, as it's important and there's only one missing value, I could search for the missing author manually and replace it.\n",
    "  - For the `Publisher` and `Image-URL-L` columns, I can decide whether these missing values are critical for my analysis. If not critical, I can leave them as they are or consider deleting the corresponding rows.\n",
    "\n",
    "**Dataset: Ratings**\n",
    "- No columns with missing values in this dataset.\n",
    "\n",
    "**Dataset: Users**\n",
    "- Columns with missing values: `Age`\n",
    "- Possible treatments:\n",
    "  - For the `Age` column, I can decide how to handle them deleting rows with missing values, replacing missing values with an estimate of the average or median age, or using more advanced imputation techniques if necessary.\n",
    "\n",
    "**Dataset: top100**\n",
    "- Columns with missing values: `rating`\n",
    "- Possible treatments:\n",
    "  - For the `rating` column, as ratings are critical for the analysis, I may consider deleting rows with missing values or attempting to manually find and replace the missing ratings.\n",
    "\n",
    "**Dataset: Customers**\n",
    "- No columns with missing values in this dataset.\n",
    "\n",
    "**Dataset: Goodreads**\n",
    "- No columns with missing values in this dataset.\n",
    "\n",
    "**Dataset: Goodreads 2**\n",
    "- No columns with missing values in this dataset.\n",
    "\n",
    "It's important to note that how I handle missing values depends on the context of the analysis and the importance of the missing data to my objectives. I make decisions based on the nature of the data and the question I am trying to answer. Options include deleting rows with missing values, imputing values, manually searching for missing data, or taking other actions as needed."
   ]
  },
  {
   "cell_type": "markdown",
   "id": "8d7bdea1",
   "metadata": {},
   "source": [
    "## Check for the existence of duplicate values"
   ]
  },
  {
   "cell_type": "code",
   "execution_count": 24,
   "id": "a38f6cfe",
   "metadata": {},
   "outputs": [
    {
     "name": "stdout",
     "output_type": "stream",
     "text": [
      "0\n",
      "0\n",
      "0\n",
      "0\n",
      "0\n",
      "0\n",
      "0\n",
      "0\n"
     ]
    }
   ],
   "source": [
    "print(books_df.duplicated().sum())\n",
    "print(ratings_df.duplicated().sum())\n",
    "print(books_df_2.duplicated().sum())\n",
    "print(users_df.duplicated().sum())\n",
    "print(top100_df.duplicated().sum())\n",
    "print(customers_df.duplicated().sum())\n",
    "print(goodreads_df.duplicated().sum())\n",
    "print(gr_books_df.duplicated().sum())"
   ]
  },
  {
   "cell_type": "markdown",
   "id": "0b11c63d",
   "metadata": {},
   "source": [
    "We don't have duplicates."
   ]
  },
  {
   "cell_type": "markdown",
   "id": "bd045c5c",
   "metadata": {},
   "source": [
    "## Identify common columns across datasets for integration"
   ]
  },
  {
   "cell_type": "code",
   "execution_count": 25,
   "id": "28b55628",
   "metadata": {},
   "outputs": [
    {
     "name": "stdout",
     "output_type": "stream",
     "text": [
      "Columns of books_df: ['author', 'bookformat', 'desc', 'genre', 'img', 'isbn', 'isbn13', 'link', 'pages', 'rating', 'reviews', 'title', 'totalratings']\n",
      "Columns of books_df_2: ['ISBN', 'Book-Title', 'Book-Author', 'Year-Of-Publication', 'Publisher', 'Image-URL-S', 'Image-URL-M', 'Image-URL-L']\n",
      "Columns of ratings_df: ['User-ID', 'ISBN', 'Book-Rating']\n",
      "Columns of gr_books_df: ['bookID', 'title', 'authors', 'average_rating', 'isbn', 'isbn13', 'language_code', '  num_pages', 'ratings_count', 'text_reviews_count', 'publication_date', 'publisher']\n",
      "Columns of users_df: ['User-ID', 'Location', 'Age']\n",
      "Columns of customers_df: ['Sno', 'book name', 'review title', 'reviewer', 'reviewer rating', 'review description', 'is_verified', 'date', 'timestamp', 'ASIN']\n",
      "Columns of top100_df: ['Rank', 'book title', 'book price', 'rating', 'author', 'year of publication', 'genre', 'url']\n",
      "Columns of goodreads_df: ['Title', 'Author', 'Image URL', 'Rating']\n"
     ]
    }
   ],
   "source": [
    "# Assign names to the dataframes\n",
    "books_df.name = \"books_df\"\n",
    "books_df_2.name = \"books_df_2\"\n",
    "ratings_df.name = \"ratings_df\"\n",
    "gr_books_df.name = \"gr_books_df\"\n",
    "users_df.name = \"users_df\"\n",
    "customers_df.name = \"customers_df\"\n",
    "top100_df.name = \"top100_df\"\n",
    "goodreads_df.name = \"goodreads_df\"\n",
    "\n",
    "# List of the dataframes\n",
    "dataframes = [books_df, books_df_2, ratings_df, gr_books_df, users_df, customers_df, top100_df, goodreads_df]\n",
    "\n",
    "# Iterate through the dataframes and print their columns\n",
    "for df in dataframes:\n",
    "    print(f\"Columns of {df.name}: {list(df.columns)}\")"
   ]
  },
  {
   "cell_type": "markdown",
   "id": "52f23c50",
   "metadata": {},
   "source": [
    "This provides a clear list of the columns for each DataFrame, which is helpful for understanding the structure of my data and for reference when working with these datasets in my analysis."
   ]
  },
  {
   "cell_type": "markdown",
   "id": "5f55840f",
   "metadata": {},
   "source": [
    "## Identifying common fields using the ISBN "
   ]
  },
  {
   "cell_type": "markdown",
   "id": "c6b48566",
   "metadata": {},
   "source": [
    "This function takes two dataframes (df1 and df2), the names of the columns containing ISBNs in each dataframe (col1 and col2), and the names of the dataframes themselves (name1 and name2). It then finds and prints the number of common ISBNs between the two dataframes, ignoring case sensitivity by converting ISBNs to uppercase. The function returns a set of common ISBNs for further analysis.\n",
    "\n",
    "ISBNs are unique identifiers for books so we will see how many books are in common."
   ]
  },
  {
   "cell_type": "code",
   "execution_count": 26,
   "id": "af54f456",
   "metadata": {},
   "outputs": [],
   "source": [
    "def find_common_isbns(df1, df2, col1, col2, name1, name2):\n",
    "    \"\"\"\n",
    "    Finds and prints the number of common ISBNs between two dataframes.\n",
    "    \n",
    "    Parameters:\n",
    "    df1 (pd.DataFrame): First dataframe containing ISBNs.\n",
    "    df2 (pd.DataFrame): Second dataframe containing ISBNs.\n",
    "    col1 (str): Column name in the first dataframe that contains ISBNs.\n",
    "    col2 (str): Column name in the second dataframe that contains ISBNs.\n",
    "    name1 (str): Name of the first dataframe.\n",
    "    name2 (str): Name of the second dataframe.\n",
    "    \n",
    "    Returns:\n",
    "    set: A set of common ISBNs between the two dataframes.\n",
    "    \"\"\"\n",
    "    # Normalize column names to uppercase to avoid case sensitivity issues\n",
    "    df1_isbns = set(df1[col1].str.upper())\n",
    "    df2_isbns = set(df2[col2].str.upper())\n",
    "    \n",
    "    # Find the intersection of ISBNs between the two dataframes\n",
    "    common_isbns = df1_isbns.intersection(df2_isbns)\n",
    "    \n",
    "    # Print the names of the dataframes\n",
    "    print(f\"Number of common ISBNs between {name1} and {name2}: {len(common_isbns)}\")\n",
    "    \n",
    "    return common_isbns"
   ]
  },
  {
   "cell_type": "code",
   "execution_count": 27,
   "id": "c4a48ddf",
   "metadata": {},
   "outputs": [
    {
     "name": "stdout",
     "output_type": "stream",
     "text": [
      "Number of common ISBNs between books_df and books_df_2: 1785\n",
      "Number of common ISBNs between books_df and books_df_2: 1785\n",
      "Number of common ISBNs between books_df and ratings_df: 1915\n",
      "Number of common ISBNs between books_df and ratings_df: 1915\n",
      "Number of common ISBNs between books_df and gr_books_df: 328\n",
      "Number of common ISBNs between books_df and gr_books_df: 328\n",
      "Number of common ISBNs between books_df_2 and ratings_df: 269843\n",
      "Number of common ISBNs between books_df_2 and ratings_df: 269843\n",
      "Number of common ISBNs between books_df_2 and gr_books_df: 3653\n",
      "Number of common ISBNs between books_df_2 and gr_books_df: 3653\n",
      "Number of common ISBNs between ratings_df and gr_books_df: 3855\n",
      "Number of common ISBNs between ratings_df and gr_books_df: 3855\n"
     ]
    }
   ],
   "source": [
    "from itertools import combinations\n",
    "\n",
    "# Define the list of dataframes that have ISBN or isbn columns\n",
    "dataframes_with_isbn = [books_df, books_df_2, ratings_df, gr_books_df]\n",
    "\n",
    "# Convert all 'ISBN' columns to lowercase\n",
    "for df in dataframes_with_isbn:\n",
    "    if 'ISBN' in df.columns:\n",
    "        df.rename(columns={'ISBN': 'isbn'}, inplace=True)\n",
    "\n",
    "# Generate all possible combinations of dataframes (2 at a time)\n",
    "combinations_of_dataframes = combinations(dataframes_with_isbn, 2)\n",
    "\n",
    "# Iterate through all combinations and find common ISBNs\n",
    "for df1, df2 in combinations_of_dataframes:\n",
    "    common_isbns = None\n",
    "    \n",
    "    if 'isbn' in df1.columns and 'isbn' in df2.columns:\n",
    "        common_isbns = find_common_isbns(df1, df2, 'isbn', 'isbn', df1.name, df2.name)\n",
    "    \n",
    "    if common_isbns is not None:\n",
    "        print(f\"Number of common ISBNs between {df1.name} and {df2.name}: {len(common_isbns)}\")\n",
    "    else:\n",
    "        print(f\"No common ISBNs between {df1.name} and {df2.name}\")"
   ]
  },
  {
   "cell_type": "markdown",
   "id": "61742469",
   "metadata": {},
   "source": [
    "It iterates 2 times the same combinations. \n",
    "\n",
    "The output provides insights into the common ISBNs (International Standard Book Numbers) found between different combinations of dataframes:\n",
    "\n",
    "1. Between `books_df` and `books_df_2`, there are 1,785 common ISBNs. This suggests that these two dataframes share a substantial number of books with matching ISBNs.\n",
    "\n",
    "2. Between `books_df` and `ratings_df`, there are 1,915 common ISBNs. This indicates that there are books in the `books_df` dataframe that have received ratings in the `ratings_df` dataframe.\n",
    "\n",
    "3. Between `books_df` and `gr_books_df`, there are 328 common ISBNs. This implies that there is some overlap between the books in `books_df` and the books listed in `gr_books_df`, potentially indicating shared book data.\n",
    "\n",
    "4. Between `books_df_2` and `ratings_df`, there are 269,843 common ISBNs. This suggests a significant overlap between books in `books_df_2` and those that have received ratings in `ratings_df`.\n",
    "\n",
    "5. Between `books_df_2` and `gr_books_df`, there are 3,653 common ISBNs. This indicates that there is some overlap between the books in `books_df_2` and the books listed in `gr_books_df`.\n",
    "\n",
    "6. Between `ratings_df` and `gr_books_df`, there are 3,855 common ISBNs. This suggests that there is a subset of books in `ratings_df` that are also listed in `gr_books_df`, potentially indicating shared book data or books that have been rated.\n",
    "\n",
    "Overall, these insights highlight the degree of overlap and commonality in ISBNs between different combinations of dataframes, which can be useful for data integration and analysis tasks."
   ]
  },
  {
   "cell_type": "markdown",
   "id": "81a13411",
   "metadata": {},
   "source": [
    "# Next Steps Based on this First Data Inspection"
   ]
  },
  {
   "cell_type": "markdown",
   "id": "bf7dc0a2",
   "metadata": {},
   "source": [
    "For my data cleaning process, considering the data import and inspection I've done, the following steps are necessary:\n",
    "\n",
    "1. **Check for Missing Values**: I'll need to handle missing values. Depending on the importance of the columns, I could fill them with default values, mean/mode/median, or remove rows or columns with too many missing values.\n",
    "\n",
    "2. **Handle Duplicate Values**: duplicates not found.\n",
    "\n",
    "3. **Data Types Consistency**: Convert data types changing years (now objects) to dates and ratings to integers or floats.\n",
    "\n",
    "4. **Merging DataFrames**: Merge `books_df_2`, `ratings_df`, and `users_df` from the same dataset, and similarly, combine `top100_df` and `customers_df` as they belong to the same dataset. Ensure that common columns like ISBNs align properly to maintain data integrity.\n",
    "\n",
    "5. **Use Google Books API**: To enrich my dataset, I probably will use the Google Books API to pull in missing information. Match the ISBNs across different DataFrames to verify that I'm pulling the correct information for each book.\n",
    "\n",
    "6. **Outliers and Anomalies**: Look for any outliers or anomalies that could affect the clustering and modeling. Decide on a strategy to handle them, which might include logging, capping, or removing these values.\n",
    "\n",
    "7. **Textual Data**: For columns with textual data, I consider whether to use text analysis techniques like sentiment analysis or topic modeling to turn unstructured text into structured data that can be used for clustering.\n",
    "\n",
    "8. **Normalization or Encoding**: If I end up making a sentiment analysis for the description or synopsis of the books, numerical features like 'polarity' and 'subjectivity' may need scaling. Polarity indicates sentiment orientation (positive, negative, neutral), and subjectivity reflects personal opinion, emotion, or judgment. These can be scaled numerically or binned into categories as part of feature engineering for clustering.\n",
    "\n",
    "When merging datasets and using the API, it's crucial to ensure the data being added is aligned with the existing structure to maintain consistency and relevance for the recommendation system and clustering analysis."
   ]
  }
 ],
 "metadata": {
  "kernelspec": {
   "display_name": "Python 3 (ipykernel)",
   "language": "python",
   "name": "python3"
  },
  "language_info": {
   "codemirror_mode": {
    "name": "ipython",
    "version": 3
   },
   "file_extension": ".py",
   "mimetype": "text/x-python",
   "name": "python",
   "nbconvert_exporter": "python",
   "pygments_lexer": "ipython3",
   "version": "3.9.18"
  }
 },
 "nbformat": 4,
 "nbformat_minor": 5
}
